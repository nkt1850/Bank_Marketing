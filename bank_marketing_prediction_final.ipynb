{
 "cells": [
  {
   "cell_type": "markdown",
   "metadata": {
    "colab_type": "text",
    "id": "view-in-github"
   },
   "source": [
    "<a href=\"https://colab.research.google.com/github/nkt1850/Bank_Marketing/blob/main/bank_marketing_prediction.ipynb\" target=\"_parent\"><img src=\"https://colab.research.google.com/assets/colab-badge.svg\" alt=\"Open In Colab\"/></a>"
   ]
  },
  {
   "cell_type": "code",
   "execution_count": 8,
   "metadata": {
    "id": "CYLAoeDbmZLL"
   },
   "outputs": [],
   "source": [
    "import pandas as pd\n",
    "import numpy as np"
   ]
  },
  {
   "cell_type": "code",
   "execution_count": 9,
   "metadata": {
    "id": "a_xVr_uCmZLO"
   },
   "outputs": [],
   "source": [
    "df = pd.read_csv(r\"C:\\Users\\nktun\\OneDrive\\Documents\\GitHub\\Bank_Marketing\\bank (original dataset)\\bank-full.csv\", delimiter=';')"
   ]
  },
  {
   "cell_type": "code",
   "execution_count": 10,
   "metadata": {
    "colab": {
     "base_uri": "https://localhost:8080/"
    },
    "id": "LlWPoSXnoJE3",
    "outputId": "195876e6-3c27-47b9-a779-80b19dc90351"
   },
   "outputs": [],
   "source": [
    "# from google.colab import drive\n",
    "# drive.mount('/content/drive')"
   ]
  },
  {
   "cell_type": "markdown",
   "metadata": {
    "id": "I5D45JBomZLQ"
   },
   "source": [
    "Understanding the data:  \n",
    "1 - age (numeric)\n",
    "\n",
    "   2 - job : type of job (categorical: \"admin.\",\"unknown\",\"unemployed\",\"management\",\"housemaid\",\"entrepreneur\",\"student\",\n",
    "                                       \"blue-collar\",\"self-employed\",\"retired\",\"technician\",\"services\")\n",
    "   \n",
    "   3 - marital : marital status (categorical: \"married\",\"divorced\",\"single\"; note: \"divorced\" means divorced or widowed)\n",
    "   \n",
    "   4 - education (categorical: \"unknown\",\"secondary\",\"primary\",\"tertiary\")\n",
    "   \n",
    "   5 - default: has credit in default? (binary: \"yes\",\"no\")\n",
    "   \n",
    "   6 - balance: average yearly balance, in euros (numeric)\n",
    "   \n",
    "   7 - housing: has housing loan? (binary: \"yes\",\"no\")\n",
    "   \n",
    "   8 - loan: has personal loan? (binary: \"yes\",\"no\")\n",
    "   \n",
    "   # related with the last contact of the current campaign:\n",
    "   \n",
    "   9 - contact: contact communication type (categorical: \"unknown\",\"telephone\",\"cellular\")\n",
    "  \n",
    "  10 - day: last contact day of the month (numeric)\n",
    "  \n",
    "  11 - month: last contact month of year (categorical: \"jan\", \"feb\", \"mar\", ..., \"nov\", \"dec\")\n",
    "  \n",
    "  12 - duration: last contact duration, in seconds (numeric)\n",
    "   \n",
    "   # other attributes:\n",
    "  \n",
    "  13 - campaign: number of contacts performed during this campaign and for this client (numeric, includes last contact)\n",
    "  \n",
    "  \n",
    "  14 - pdays: number of days that passed by after the client was last contacted from a previous campaign (numeric, -1 means client was not previously contacted)\n",
    "  \n",
    "  15 - previous: number of contacts performed before this campaign and for this client (numeric)\n",
    "  \n",
    "  16 - poutcome: outcome of the previous marketing campaign (categorical: \"unknown\",\"other\",\"failure\",\"success\")\n",
    "\n",
    "  Output variable (desired target):\n",
    "  17 - y - has the client subscribed a term deposit? (binary: \"yes\",\"no\")"
   ]
  },
  {
   "cell_type": "markdown",
   "metadata": {
    "id": "9cI5-epymZLT"
   },
   "source": [
    "# No missing attributes, this is for splitting and training immediately"
   ]
  },
  {
   "cell_type": "code",
   "execution_count": 11,
   "metadata": {
    "id": "Ogy022v5r_E0"
   },
   "outputs": [],
   "source": [
    "# df = pd.read_csv(r\"/content/drive/MyDrive/Bank_Marketing-main/Bank_Marketing-main/bank (original dataset)/bank-full.csv\", delimiter=';')"
   ]
  },
  {
   "cell_type": "code",
   "execution_count": 12,
   "metadata": {
    "colab": {
     "base_uri": "https://localhost:8080/",
     "height": 363
    },
    "id": "CYKORD7rmZLT",
    "outputId": "a03b213e-17de-439a-e309-ff782bf00a7d"
   },
   "outputs": [
    {
     "data": {
      "text/html": [
       "<div>\n",
       "<style scoped>\n",
       "    .dataframe tbody tr th:only-of-type {\n",
       "        vertical-align: middle;\n",
       "    }\n",
       "\n",
       "    .dataframe tbody tr th {\n",
       "        vertical-align: top;\n",
       "    }\n",
       "\n",
       "    .dataframe thead th {\n",
       "        text-align: right;\n",
       "    }\n",
       "</style>\n",
       "<table border=\"1\" class=\"dataframe\">\n",
       "  <thead>\n",
       "    <tr style=\"text-align: right;\">\n",
       "      <th></th>\n",
       "      <th>age</th>\n",
       "      <th>job</th>\n",
       "      <th>marital</th>\n",
       "      <th>education</th>\n",
       "      <th>default</th>\n",
       "      <th>balance</th>\n",
       "      <th>housing</th>\n",
       "      <th>loan</th>\n",
       "      <th>contact</th>\n",
       "      <th>day</th>\n",
       "      <th>month</th>\n",
       "      <th>duration</th>\n",
       "      <th>campaign</th>\n",
       "      <th>pdays</th>\n",
       "      <th>previous</th>\n",
       "      <th>poutcome</th>\n",
       "      <th>y</th>\n",
       "    </tr>\n",
       "  </thead>\n",
       "  <tbody>\n",
       "    <tr>\n",
       "      <th>0</th>\n",
       "      <td>58</td>\n",
       "      <td>management</td>\n",
       "      <td>married</td>\n",
       "      <td>tertiary</td>\n",
       "      <td>no</td>\n",
       "      <td>2143</td>\n",
       "      <td>yes</td>\n",
       "      <td>no</td>\n",
       "      <td>unknown</td>\n",
       "      <td>5</td>\n",
       "      <td>may</td>\n",
       "      <td>261</td>\n",
       "      <td>1</td>\n",
       "      <td>-1</td>\n",
       "      <td>0</td>\n",
       "      <td>unknown</td>\n",
       "      <td>no</td>\n",
       "    </tr>\n",
       "    <tr>\n",
       "      <th>1</th>\n",
       "      <td>44</td>\n",
       "      <td>technician</td>\n",
       "      <td>single</td>\n",
       "      <td>secondary</td>\n",
       "      <td>no</td>\n",
       "      <td>29</td>\n",
       "      <td>yes</td>\n",
       "      <td>no</td>\n",
       "      <td>unknown</td>\n",
       "      <td>5</td>\n",
       "      <td>may</td>\n",
       "      <td>151</td>\n",
       "      <td>1</td>\n",
       "      <td>-1</td>\n",
       "      <td>0</td>\n",
       "      <td>unknown</td>\n",
       "      <td>no</td>\n",
       "    </tr>\n",
       "    <tr>\n",
       "      <th>2</th>\n",
       "      <td>33</td>\n",
       "      <td>entrepreneur</td>\n",
       "      <td>married</td>\n",
       "      <td>secondary</td>\n",
       "      <td>no</td>\n",
       "      <td>2</td>\n",
       "      <td>yes</td>\n",
       "      <td>yes</td>\n",
       "      <td>unknown</td>\n",
       "      <td>5</td>\n",
       "      <td>may</td>\n",
       "      <td>76</td>\n",
       "      <td>1</td>\n",
       "      <td>-1</td>\n",
       "      <td>0</td>\n",
       "      <td>unknown</td>\n",
       "      <td>no</td>\n",
       "    </tr>\n",
       "    <tr>\n",
       "      <th>3</th>\n",
       "      <td>47</td>\n",
       "      <td>blue-collar</td>\n",
       "      <td>married</td>\n",
       "      <td>unknown</td>\n",
       "      <td>no</td>\n",
       "      <td>1506</td>\n",
       "      <td>yes</td>\n",
       "      <td>no</td>\n",
       "      <td>unknown</td>\n",
       "      <td>5</td>\n",
       "      <td>may</td>\n",
       "      <td>92</td>\n",
       "      <td>1</td>\n",
       "      <td>-1</td>\n",
       "      <td>0</td>\n",
       "      <td>unknown</td>\n",
       "      <td>no</td>\n",
       "    </tr>\n",
       "    <tr>\n",
       "      <th>4</th>\n",
       "      <td>33</td>\n",
       "      <td>unknown</td>\n",
       "      <td>single</td>\n",
       "      <td>unknown</td>\n",
       "      <td>no</td>\n",
       "      <td>1</td>\n",
       "      <td>no</td>\n",
       "      <td>no</td>\n",
       "      <td>unknown</td>\n",
       "      <td>5</td>\n",
       "      <td>may</td>\n",
       "      <td>198</td>\n",
       "      <td>1</td>\n",
       "      <td>-1</td>\n",
       "      <td>0</td>\n",
       "      <td>unknown</td>\n",
       "      <td>no</td>\n",
       "    </tr>\n",
       "    <tr>\n",
       "      <th>5</th>\n",
       "      <td>35</td>\n",
       "      <td>management</td>\n",
       "      <td>married</td>\n",
       "      <td>tertiary</td>\n",
       "      <td>no</td>\n",
       "      <td>231</td>\n",
       "      <td>yes</td>\n",
       "      <td>no</td>\n",
       "      <td>unknown</td>\n",
       "      <td>5</td>\n",
       "      <td>may</td>\n",
       "      <td>139</td>\n",
       "      <td>1</td>\n",
       "      <td>-1</td>\n",
       "      <td>0</td>\n",
       "      <td>unknown</td>\n",
       "      <td>no</td>\n",
       "    </tr>\n",
       "    <tr>\n",
       "      <th>6</th>\n",
       "      <td>28</td>\n",
       "      <td>management</td>\n",
       "      <td>single</td>\n",
       "      <td>tertiary</td>\n",
       "      <td>no</td>\n",
       "      <td>447</td>\n",
       "      <td>yes</td>\n",
       "      <td>yes</td>\n",
       "      <td>unknown</td>\n",
       "      <td>5</td>\n",
       "      <td>may</td>\n",
       "      <td>217</td>\n",
       "      <td>1</td>\n",
       "      <td>-1</td>\n",
       "      <td>0</td>\n",
       "      <td>unknown</td>\n",
       "      <td>no</td>\n",
       "    </tr>\n",
       "    <tr>\n",
       "      <th>7</th>\n",
       "      <td>42</td>\n",
       "      <td>entrepreneur</td>\n",
       "      <td>divorced</td>\n",
       "      <td>tertiary</td>\n",
       "      <td>yes</td>\n",
       "      <td>2</td>\n",
       "      <td>yes</td>\n",
       "      <td>no</td>\n",
       "      <td>unknown</td>\n",
       "      <td>5</td>\n",
       "      <td>may</td>\n",
       "      <td>380</td>\n",
       "      <td>1</td>\n",
       "      <td>-1</td>\n",
       "      <td>0</td>\n",
       "      <td>unknown</td>\n",
       "      <td>no</td>\n",
       "    </tr>\n",
       "    <tr>\n",
       "      <th>8</th>\n",
       "      <td>58</td>\n",
       "      <td>retired</td>\n",
       "      <td>married</td>\n",
       "      <td>primary</td>\n",
       "      <td>no</td>\n",
       "      <td>121</td>\n",
       "      <td>yes</td>\n",
       "      <td>no</td>\n",
       "      <td>unknown</td>\n",
       "      <td>5</td>\n",
       "      <td>may</td>\n",
       "      <td>50</td>\n",
       "      <td>1</td>\n",
       "      <td>-1</td>\n",
       "      <td>0</td>\n",
       "      <td>unknown</td>\n",
       "      <td>no</td>\n",
       "    </tr>\n",
       "    <tr>\n",
       "      <th>9</th>\n",
       "      <td>43</td>\n",
       "      <td>technician</td>\n",
       "      <td>single</td>\n",
       "      <td>secondary</td>\n",
       "      <td>no</td>\n",
       "      <td>593</td>\n",
       "      <td>yes</td>\n",
       "      <td>no</td>\n",
       "      <td>unknown</td>\n",
       "      <td>5</td>\n",
       "      <td>may</td>\n",
       "      <td>55</td>\n",
       "      <td>1</td>\n",
       "      <td>-1</td>\n",
       "      <td>0</td>\n",
       "      <td>unknown</td>\n",
       "      <td>no</td>\n",
       "    </tr>\n",
       "  </tbody>\n",
       "</table>\n",
       "</div>"
      ],
      "text/plain": [
       "   age           job   marital  education default  balance housing loan   \n",
       "0   58    management   married   tertiary      no     2143     yes   no  \\\n",
       "1   44    technician    single  secondary      no       29     yes   no   \n",
       "2   33  entrepreneur   married  secondary      no        2     yes  yes   \n",
       "3   47   blue-collar   married    unknown      no     1506     yes   no   \n",
       "4   33       unknown    single    unknown      no        1      no   no   \n",
       "5   35    management   married   tertiary      no      231     yes   no   \n",
       "6   28    management    single   tertiary      no      447     yes  yes   \n",
       "7   42  entrepreneur  divorced   tertiary     yes        2     yes   no   \n",
       "8   58       retired   married    primary      no      121     yes   no   \n",
       "9   43    technician    single  secondary      no      593     yes   no   \n",
       "\n",
       "   contact  day month  duration  campaign  pdays  previous poutcome   y  \n",
       "0  unknown    5   may       261         1     -1         0  unknown  no  \n",
       "1  unknown    5   may       151         1     -1         0  unknown  no  \n",
       "2  unknown    5   may        76         1     -1         0  unknown  no  \n",
       "3  unknown    5   may        92         1     -1         0  unknown  no  \n",
       "4  unknown    5   may       198         1     -1         0  unknown  no  \n",
       "5  unknown    5   may       139         1     -1         0  unknown  no  \n",
       "6  unknown    5   may       217         1     -1         0  unknown  no  \n",
       "7  unknown    5   may       380         1     -1         0  unknown  no  \n",
       "8  unknown    5   may        50         1     -1         0  unknown  no  \n",
       "9  unknown    5   may        55         1     -1         0  unknown  no  "
      ]
     },
     "execution_count": 12,
     "metadata": {},
     "output_type": "execute_result"
    }
   ],
   "source": [
    "df.head(10)"
   ]
  },
  {
   "cell_type": "code",
   "execution_count": 13,
   "metadata": {
    "id": "D6TyNEOYmZLV"
   },
   "outputs": [],
   "source": [
    "# Selecting X and y, and then perform train test split\n",
    "X = df.drop(columns=['y', 'duration'])\n",
    "y = df['y']\n",
    "\n",
    "from sklearn.preprocessing import OneHotEncoder\n",
    "from sklearn.compose import ColumnTransformer\n",
    "\n",
    "ohe_job = OneHotEncoder(sparse_output=False) # Instantiate a class of OHE\n",
    "# Job and Marital should be encoded as OHE because of no inherent ranking, but education does have ranking\n",
    "encoded_job = ohe_job.fit_transform(X[['job']])\n",
    "encoded_job_df = pd.DataFrame(encoded_job, columns=ohe_job.get_feature_names_out(['job']))\n",
    "\n",
    "# Convert the encoded job back to df format to concat to X\n",
    "ohe_marital = OneHotEncoder(sparse_output=False)\n",
    "encoded_marital = ohe_marital.fit_transform(X[['marital']])\n",
    "encoded_marital_df = pd.DataFrame(encoded_marital, columns=ohe_marital.get_feature_names_out(['marital']))\n",
    "\n",
    "# Concat with the original df\n",
    "X_encoded = pd.concat([X, encoded_job_df, encoded_marital_df], axis=1)\n",
    "\n",
    "# Drop the original job column if no longer needed\n",
    "X_encoded.drop(['job', 'marital'], axis=1, inplace=True)\n",
    "\n",
    "# Map education and replace housing and loan\n",
    "education_mapping = {'unknown':0, 'primary':1, 'secondary':2, 'tertiary':3}\n",
    "X_encoded['education'] = X_encoded['education'].map(education_mapping)\n",
    "\n",
    "# Mapping binary features\n",
    "binary_mapping = {'yes':1, 'no':0}\n",
    "X_encoded['default'] = X_encoded['default'].map(binary_mapping)\n",
    "X_encoded['loan'] = X_encoded['loan'].map(binary_mapping)\n",
    "X_encoded['housing'] = X_encoded['housing'].map(binary_mapping)\n",
    "\n",
    "# Let's drop the month column for now - I wonder if there is a underlying significance to this column\n",
    "X_encoded.drop(columns='month', inplace=True)\n",
    "\n",
    "X_encoded.contact.unique() # cardinality = 3\n",
    "X_encoded.poutcome.unique() # cardinality = 3, as other can be mapped as unknown\n",
    "X_encoded['poutcome'] = X_encoded['poutcome'].replace('other', 'unknown')\n",
    "\n",
    "# Now, OHE can be performed on 2 remaining columns: contact & poutcome\n",
    "ohe_contact = OneHotEncoder(sparse_output=False) # Instantiate a class of OHE\n",
    "encoded_contact = ohe_contact.fit_transform(X[['contact']])\n",
    "encoded_contact_df = pd.DataFrame(encoded_contact, columns=ohe_contact.get_feature_names_out(['contact']))\n",
    "\n",
    "ohe_poutcome = OneHotEncoder(sparse_output=False)\n",
    "encoded_poutcome = ohe_poutcome.fit_transform(X[['poutcome']])\n",
    "encoded_poutcome_df = pd.DataFrame(encoded_poutcome, columns=ohe_poutcome.get_feature_names_out(['poutcome']))\n",
    "\n",
    "# Concat with the original df\n",
    "X_encoded = pd.concat([X_encoded, encoded_contact_df, encoded_poutcome_df], axis=1)\n",
    "\n",
    "# Drop the original job column if no longer needed\n",
    "X_encoded.drop(['contact', 'poutcome'], axis=1, inplace=True)\n",
    "\n",
    "# Outcome has to be binary as well, not categorical\n",
    "y = y.map(binary_mapping)\n"
   ]
  },
  {
   "cell_type": "code",
   "execution_count": 14,
   "metadata": {
    "colab": {
     "base_uri": "https://localhost:8080/",
     "height": 1000
    },
    "id": "-Fgx8_BtF_s7",
    "outputId": "1f029131-764f-46b8-bd34-fb17b1201988"
   },
   "outputs": [
    {
     "data": {
      "text/plain": [
       "y                    1.000000\n",
       "poutcome_success     0.306788\n",
       "contact_cellular     0.135873\n",
       "pdays                0.103621\n",
       "previous             0.093236\n",
       "job_retired          0.079245\n",
       "job_student          0.076897\n",
       "marital_single       0.063526\n",
       "balance              0.052838\n",
       "education            0.051341\n",
       "job_management       0.032919\n",
       "poutcome_other       0.031955\n",
       "age                  0.025155\n",
       "job_unemployed       0.020390\n",
       "contact_telephone    0.014042\n",
       "poutcome_failure     0.009885\n",
       "job_admin.           0.005637\n",
       "marital_divorced     0.002772\n",
       "job_self-employed    0.000855\n",
       "job_unknown          0.000267\n",
       "job_technician      -0.008970\n",
       "job_housemaid       -0.015195\n",
       "job_entrepreneur    -0.019662\n",
       "default             -0.022419\n",
       "job_services        -0.027864\n",
       "day                 -0.028348\n",
       "marital_married     -0.060260\n",
       "loan                -0.068185\n",
       "job_blue-collar     -0.072083\n",
       "campaign            -0.073172\n",
       "housing             -0.139173\n",
       "contact_unknown     -0.150935\n",
       "poutcome_unknown    -0.167051\n",
       "Name: y, dtype: float64"
      ]
     },
     "execution_count": 14,
     "metadata": {},
     "output_type": "execute_result"
    }
   ],
   "source": [
    "# prompt: show correlation between X and y\n",
    "\n",
    "import pandas as pd\n",
    "# Assuming X_encoded and y are defined as in the provided code\n",
    "correlation_matrix = pd.concat([X_encoded, y], axis=1).corr()\n",
    "correlation_matrix['y'].sort_values(ascending=False)"
   ]
  },
  {
   "cell_type": "code",
   "execution_count": 15,
   "metadata": {
    "id": "HCSoOKuumZLe"
   },
   "outputs": [],
   "source": [
    "# Splitting the data with 25 - 75\n",
    "from sklearn.model_selection import train_test_split\n",
    "X_train, X_test, y_train, y_test = train_test_split(X_encoded,y ,\n",
    "                                   random_state=42,\n",
    "                                   test_size=0.25,\n",
    "                                   shuffle=True)\n",
    "# I use XGBoost so no scaling shall be required"
   ]
  },
  {
   "cell_type": "markdown",
   "metadata": {
    "id": "28_GM6GjmZLe"
   },
   "source": [
    "### Great, now that the data has been successfully preprocessed & splitted into training set and testing set"
   ]
  },
  {
   "cell_type": "code",
   "execution_count": 16,
   "metadata": {
    "id": "2dQoZ4RnmZLf"
   },
   "outputs": [],
   "source": [
    "# Get rolling with XGBoost\n",
    "import xgboost as xgb\n",
    "from sklearn.metrics import accuracy_score, confusion_matrix, classification_report\n"
   ]
  },
  {
   "cell_type": "code",
   "execution_count": 17,
   "metadata": {
    "id": "4a8e21J1mZLf"
   },
   "outputs": [],
   "source": [
    "# Conversion to DMatrix to ensure operational efficiency from xgb's side\n",
    "dtrain = xgb.DMatrix(X_train, label=y_train)\n",
    "dtest = xgb.DMatrix(X_test, label=y_test)"
   ]
  },
  {
   "cell_type": "code",
   "execution_count": 18,
   "metadata": {
    "id": "sV3Y-q3kmZLf"
   },
   "outputs": [],
   "source": [
    "# For a classification problem, use XGBClassifier\n",
    "from xgboost import XGBClassifier\n",
    "\n",
    "xgb_model = XGBClassifier() # Instantiate model, default params\n",
    "xgb_model.fit(X_train, y_train)\n",
    "y_pred = xgb_model.predict(X_test) # predict"
   ]
  },
  {
   "cell_type": "code",
   "execution_count": 19,
   "metadata": {
    "colab": {
     "base_uri": "https://localhost:8080/"
    },
    "id": "W1yybkBQmZLf",
    "outputId": "500e8fb0-2d61-41f5-81e3-aeb46c6e8f85"
   },
   "outputs": [
    {
     "name": "stdout",
     "output_type": "stream",
     "text": [
      "Accuracy: 0.8864\n",
      "Confusion Matrix:\n",
      "[[9763  187]\n",
      " [1097  256]]\n",
      "\n",
      "Classification Report:\n",
      "              precision    recall  f1-score   support\n",
      "\n",
      "           0       0.90      0.98      0.94      9950\n",
      "           1       0.58      0.19      0.29      1353\n",
      "\n",
      "    accuracy                           0.89     11303\n",
      "   macro avg       0.74      0.59      0.61     11303\n",
      "weighted avg       0.86      0.89      0.86     11303\n",
      "\n"
     ]
    }
   ],
   "source": [
    "# Evaluation of model: Compare y_pred and y_test\n",
    "# Calculate accuracy\n",
    "accuracy = accuracy_score(y_test, y_pred)\n",
    "print(f\"Accuracy: {accuracy:.4f}\")\n",
    "\n",
    "# Print confusion matrix and classification report\n",
    "print(\"Confusion Matrix:\")\n",
    "print(confusion_matrix(y_test, y_pred))\n",
    "\n",
    "print(\"\\nClassification Report:\")\n",
    "print(classification_report(y_test, y_pred))\n"
   ]
  },
  {
   "cell_type": "code",
   "execution_count": 20,
   "metadata": {
    "colab": {
     "base_uri": "https://localhost:8080/",
     "height": 467
    },
    "id": "-Twn6V99mZLg",
    "outputId": "84eacace-63c9-43ad-a8b1-ed5a490ab16c"
   },
   "outputs": [
    {
     "data": {
      "text/plain": [
       "<sklearn.metrics._plot.confusion_matrix.ConfusionMatrixDisplay at 0x1df3ef76190>"
      ]
     },
     "execution_count": 20,
     "metadata": {},
     "output_type": "execute_result"
    },
    {
     "data": {
      "image/png": "[encoded data removed]",
      "text/plain": [
       "<Figure size 640x480 with 2 Axes>"
      ]
     },
     "metadata": {},
     "output_type": "display_data"
    }
   ],
   "source": [
    "from sklearn.metrics import ConfusionMatrixDisplay\n",
    "matrix = ConfusionMatrixDisplay(confusion_matrix(y_test, y_pred))\n",
    "matrix.plot()"
   ]
  },
  {
   "cell_type": "code",
   "execution_count": 21,
   "metadata": {
    "colab": {
     "base_uri": "https://localhost:8080/"
    },
    "id": "Irp-Cnh4mZLg",
    "outputId": "73c05db9-1e4f-4ce7-94a5-6fe965f360ca"
   },
   "outputs": [
    {
     "data": {
      "text/plain": [
       "5289"
      ]
     },
     "execution_count": 21,
     "metadata": {},
     "output_type": "execute_result"
    }
   ],
   "source": [
    "y.sum() # 5289 yes over 45k --> There is class imbalance here, I should figure out a way to deal with this"
   ]
  },
  {
   "cell_type": "markdown",
   "metadata": {
    "id": "0k0yW19ZmZLg"
   },
   "source": [
    "### Pro tip: The key to finding meaningful features: Aggregation"
   ]
  },
  {
   "cell_type": "markdown",
   "metadata": {
    "id": "GQKrycJnmZLg"
   },
   "source": [
    "## Implement oversampling to solve the problem: Use another model of xgb classifier to see if there is any diff in recall"
   ]
  },
  {
   "cell_type": "code",
   "execution_count": 22,
   "metadata": {
    "colab": {
     "base_uri": "https://localhost:8080/"
    },
    "id": "OxA59naTmZLh",
    "outputId": "c7d8b7fd-6358-453a-c244-5c9dbbd34337"
   },
   "outputs": [
    {
     "name": "stdout",
     "output_type": "stream",
     "text": [
      "Accuracy: 0.7952\n",
      "Confusion Matrix:\n",
      "[[8035 1914]\n",
      " [2175 7837]]\n",
      "\n",
      "Classification Report:\n",
      "              precision    recall  f1-score   support\n",
      "\n",
      "           0       0.79      0.81      0.80      9949\n",
      "           1       0.80      0.78      0.79     10012\n",
      "\n",
      "    accuracy                           0.80     19961\n",
      "   macro avg       0.80      0.80      0.80     19961\n",
      "weighted avg       0.80      0.80      0.80     19961\n",
      "\n"
     ]
    }
   ],
   "source": [
    "# pip install imbalanced-learn\n",
    "from imblearn.over_sampling import RandomOverSampler\n",
    "ros = RandomOverSampler(random_state=42, sampling_strategy='auto') #Instantiate model of random oversampler\n",
    "X_resampled, y_resampled = ros.fit_resample(X_encoded, y) #Fit the model & resample\n",
    "\n",
    "# Splitting the data with 25 - 75\n",
    "from sklearn.model_selection import train_test_split\n",
    "X_train, X_test, y_train, y_test = train_test_split(X_resampled, y_resampled,\n",
    "                                   random_state=42,\n",
    "                                   test_size=0.25,\n",
    "                                   shuffle=True)\n",
    "\n",
    "xgb_model_resampled = XGBClassifier()\n",
    "xgb_model_resampled.fit(X_train, y_train)\n",
    "y_pred = xgb_model_resampled.predict(X_test)\n",
    "\n",
    "# Evaluation of model WITH RESAMPLING (OVER-SAMPLER): Compare y_pred and y_test\n",
    "# Calculate accuracy\n",
    "accuracy = accuracy_score(y_test, y_pred)\n",
    "print(f\"Accuracy: {accuracy:.4f}\")\n",
    "\n",
    "# Print confusion matrix and classification report\n",
    "print(\"Confusion Matrix:\")\n",
    "print(confusion_matrix(y_test, y_pred))\n",
    "\n",
    "print(\"\\nClassification Report:\")\n",
    "print(classification_report(y_test, y_pred))\n"
   ]
  },
  {
   "cell_type": "markdown",
   "metadata": {
    "id": "WUxwX-caG3Wi"
   },
   "source": [
    "Random sampling seems to be doing greater than the previous one"
   ]
  },
  {
   "cell_type": "markdown",
   "metadata": {
    "id": "pve8_bTGmwyr"
   },
   "source": [
    "## Hyperparameter tuning using RandomizedSearchCV"
   ]
  },
  {
   "cell_type": "code",
   "execution_count": 23,
   "metadata": {
    "colab": {
     "base_uri": "https://localhost:8080/"
    },
    "id": "PzG1NhC2HAtk",
    "outputId": "a4e8fa90-2dcf-4c54-a3b3-53f93d9b7874"
   },
   "outputs": [
    {
     "name": "stdout",
     "output_type": "stream",
     "text": [
      "Fitting 5 folds for each of 50 candidates, totalling 250 fits\n",
      "Best Hyperparameters: {'subsample': 0.8, 'n_estimators': 300, 'max_depth': 7, 'learning_rate': 0.2, 'colsample_bytree': 1.0}\n",
      "Accuracy: 0.9046\n",
      "Confusion Matrix:\n",
      "[[8707 1242]\n",
      " [ 662 9350]]\n",
      "\n",
      "Classification Report:\n",
      "              precision    recall  f1-score   support\n",
      "\n",
      "           0       0.93      0.88      0.90      9949\n",
      "           1       0.88      0.93      0.91     10012\n",
      "\n",
      "    accuracy                           0.90     19961\n",
      "   macro avg       0.91      0.90      0.90     19961\n",
      "weighted avg       0.91      0.90      0.90     19961\n",
      "\n"
     ]
    }
   ],
   "source": [
    "# prompt: Perform hyperparameter tuning on the model that uses X_encoded and y\n",
    "\n",
    "from sklearn.model_selection import RandomizedSearchCV\n",
    "\n",
    "# Define the parameter grid for hyperparameter tuning\n",
    "param_grid = {\n",
    "    'learning_rate': [0.01, 0.1, 0.2],\n",
    "    'n_estimators': [100, 200, 300],\n",
    "    'max_depth': [3, 5, 7],\n",
    "    'subsample': [0.8, 0.9, 1.0],\n",
    "    'colsample_bytree': [0.8, 0.9, 1.0],\n",
    "}\n",
    "\n",
    "# Initialize the XGBClassifier\n",
    "xgb_model = XGBClassifier(random_state=42) # Use random_state for reproducibility\n",
    "\n",
    "# Initialize RandomizedSearchCV\n",
    "random_search = RandomizedSearchCV(\n",
    "    estimator=xgb_model_resampled, # Model trained on resampled data\n",
    "    param_distributions = param_grid,\n",
    "                          n_iter=50,  # Number of parameter settings that are sampled\n",
    "                          scoring='recall', # Optimize for recall\n",
    "                          cv=5,  # Number of cross-validation folds\n",
    "                          verbose=1,  # Print progress messages\n",
    "                          random_state=42, # Use random_state for reproducibility\n",
    "                          n_jobs=-1 # Utilize all available CPU cores\n",
    ")\n",
    "\n",
    "\n",
    "# Perform the hyperparameter search\n",
    "random_search.fit(X_train, y_train)\n",
    "\n",
    "# Get the best hyperparameters\n",
    "best_params = random_search.best_params_\n",
    "print(f\"Best Hyperparameters: {best_params}\")\n",
    "\n",
    "# Train a model with the best hyperparameters\n",
    "best_xgb_model = XGBClassifier(**best_params, random_state=42)\n",
    "best_xgb_model.fit(X_train, y_train)\n",
    "\n",
    "# Make predictions on the test set\n",
    "y_pred = best_xgb_model.predict(X_test)\n",
    "\n",
    "# Evaluate the model\n",
    "accuracy = accuracy_score(y_test, y_pred)\n",
    "print(f\"Accuracy: {accuracy:.4f}\")\n",
    "print(\"Confusion Matrix:\")\n",
    "print(confusion_matrix(y_test, y_pred))\n",
    "print(\"\\nClassification Report:\")\n",
    "print(classification_report(y_test, y_pred))"
   ]
  },
  {
   "cell_type": "code",
   "execution_count": 28,
   "metadata": {
    "colab": {
     "base_uri": "https://localhost:8080/"
    },
    "id": "q3BK_D3Gq3VB",
    "outputId": "4474ae9d-d970-4c22-af51-883491c6d7a6"
   },
   "outputs": [
    {
     "name": "stderr",
     "output_type": "stream",
     "text": [
      "100%|===================| 19905/19961 [04:38<00:00]        "
     ]
    }
   ],
   "source": [
    "import shap\n",
    "\n",
    "# Explain the model's predictions using SHAP values\n",
    "explainer = shap.Explainer(best_xgb_model, X_train)\n",
    "shap_values = explainer(X_test)"
   ]
  },
  {
   "cell_type": "code",
   "execution_count": 29,
   "metadata": {
    "colab": {
     "base_uri": "https://localhost:8080/",
     "height": 1000
    },
    "id": "-ZhQSfgfr74U",
    "outputId": "f27bc1c4-893f-465d-a4a9-5d57de3ac33f"
   },
   "outputs": [
    {
     "data": {
      "image/png": "[encoded data removed]",
      "text/plain": [
       "<Figure size 800x950 with 1 Axes>"
      ]
     },
     "metadata": {},
     "output_type": "display_data"
    }
   ],
   "source": [
    "# Summarize the effects of all the features (bar plot)\n",
    "shap.summary_plot(shap_values, X_test, plot_type=\"bar\")"
   ]
  },
  {
   "cell_type": "markdown",
   "metadata": {
    "id": "KffQu9H3unUE"
   },
   "source": [
    "## Test with a brand new data set: bank.csv\n"
   ]
  },
  {
   "cell_type": "code",
   "execution_count": 30,
   "metadata": {
    "id": "B36WtDdmusHH"
   },
   "outputs": [],
   "source": [
    "# df = pd.read_csv(r\"/content/drive/MyDrive/Bank_Marketing-main/Bank_Marketing-main/bank (original dataset)/bank.csv\", delimiter=';')\n",
    "df = pd.read_csv(r\"C:\\Users\\nktun\\OneDrive\\Documents\\GitHub\\Bank_Marketing\\bank (original dataset)\\bank.csv\", delimiter=';')"
   ]
  },
  {
   "cell_type": "code",
   "execution_count": 31,
   "metadata": {
    "id": "naF-931GvMRj"
   },
   "outputs": [],
   "source": [
    "# Use the pipeline above to parse the data for this dataset\n",
    "# Selecting X and y, and then perform train test split\n",
    "X = df.drop(columns=['y', 'duration'])\n",
    "y = df['y']\n",
    "\n",
    "from sklearn.preprocessing import OneHotEncoder\n",
    "from sklearn.compose import ColumnTransformer\n",
    "\n",
    "ohe_job = OneHotEncoder(sparse_output=False) # Instantiate a class of OHE\n",
    "# Job and Marital should be encoded as OHE because of no inherent ranking, but education does have ranking\n",
    "encoded_job = ohe_job.fit_transform(X[['job']])\n",
    "encoded_job_df = pd.DataFrame(encoded_job, columns=ohe_job.get_feature_names_out(['job']))\n",
    "\n",
    "# Convert the encoded job back to df format to concat to X\n",
    "ohe_marital = OneHotEncoder(sparse_output=False)\n",
    "encoded_marital = ohe_marital.fit_transform(X[['marital']])\n",
    "encoded_marital_df = pd.DataFrame(encoded_marital, columns=ohe_marital.get_feature_names_out(['marital']))\n",
    "\n",
    "# Concat with the original df\n",
    "X_encoded = pd.concat([X, encoded_job_df, encoded_marital_df], axis=1)\n",
    "\n",
    "# Drop the original job column if no longer needed\n",
    "X_encoded.drop(['job', 'marital'], axis=1, inplace=True)\n",
    "\n",
    "# Map education and replace housing and loan\n",
    "education_mapping = {'unknown':0, 'primary':1, 'secondary':2, 'tertiary':3}\n",
    "X_encoded['education'] = X_encoded['education'].map(education_mapping)\n",
    "\n",
    "# Mapping binary features\n",
    "binary_mapping = {'yes':1, 'no':0}\n",
    "X_encoded['default'] = X_encoded['default'].map(binary_mapping)\n",
    "X_encoded['loan'] = X_encoded['loan'].map(binary_mapping)\n",
    "X_encoded['housing'] = X_encoded['housing'].map(binary_mapping)\n",
    "\n",
    "# Let's drop the month column for now - I wonder if there is a underlying significance to this column\n",
    "X_encoded.drop(columns='month', inplace=True)\n",
    "\n",
    "X_encoded.contact.unique() # cardinality = 3\n",
    "X_encoded.poutcome.unique() # cardinality = 3, as other can be mapped as unknown\n",
    "X_encoded['poutcome'] = X_encoded['poutcome'].replace('other', 'unknown')\n",
    "\n",
    "# Now, OHE can be performed on 2 remaining columns: contact & poutcome\n",
    "ohe_contact = OneHotEncoder(sparse_output=False) # Instantiate a class of OHE\n",
    "encoded_contact = ohe_contact.fit_transform(X[['contact']])\n",
    "encoded_contact_df = pd.DataFrame(encoded_contact, columns=ohe_contact.get_feature_names_out(['contact']))\n",
    "\n",
    "ohe_poutcome = OneHotEncoder(sparse_output=False)\n",
    "encoded_poutcome = ohe_poutcome.fit_transform(X[['poutcome']])\n",
    "encoded_poutcome_df = pd.DataFrame(encoded_poutcome, columns=ohe_poutcome.get_feature_names_out(['poutcome']))\n",
    "\n",
    "# Concat with the original df\n",
    "X_encoded = pd.concat([X_encoded, encoded_contact_df, encoded_poutcome_df], axis=1)\n",
    "\n",
    "# Drop the original job column if no longer needed\n",
    "X_encoded.drop(['contact', 'poutcome'], axis=1, inplace=True)\n",
    "\n",
    "# Outcome has to be binary as well, not categorical\n",
    "y = y.map(binary_mapping)\n"
   ]
  },
  {
   "cell_type": "code",
   "execution_count": 32,
   "metadata": {
    "colab": {
     "base_uri": "https://localhost:8080/"
    },
    "id": "oBktetmVv5mB",
    "outputId": "17c969f2-061b-4c5e-87bc-e6a45c0f01b6"
   },
   "outputs": [
    {
     "name": "stdout",
     "output_type": "stream",
     "text": [
      "Accuracy: 0.9310\n",
      "Confusion Matrix:\n",
      "[[3720  280]\n",
      " [  32  489]]\n",
      "\n",
      "Classification Report:\n",
      "              precision    recall  f1-score   support\n",
      "\n",
      "           0       0.99      0.93      0.96      4000\n",
      "           1       0.64      0.94      0.76       521\n",
      "\n",
      "    accuracy                           0.93      4521\n",
      "   macro avg       0.81      0.93      0.86      4521\n",
      "weighted avg       0.95      0.93      0.94      4521\n",
      "\n"
     ]
    }
   ],
   "source": [
    "# Make predictions on the unseen dataset (bank.csv)\n",
    "y_pred = best_xgb_model.predict(X_encoded)\n",
    "\n",
    "# Evaluate the model\n",
    "accuracy = accuracy_score(y, y_pred)\n",
    "print(f\"Accuracy: {accuracy:.4f}\")\n",
    "print(\"Confusion Matrix:\")\n",
    "print(confusion_matrix(y, y_pred))\n",
    "print(\"\\nClassification Report:\")\n",
    "print(classification_report(y, y_pred))"
   ]
  }
 ],
 "metadata": {
  "colab": {
   "include_colab_link": true,
   "provenance": []
  },
  "kernelspec": {
   "display_name": "Python 3",
   "language": "python",
   "name": "python3"
  },
  "language_info": {
   "codemirror_mode": {
    "name": "ipython",
    "version": 3
   },
   "file_extension": ".py",
   "mimetype": "text/x-python",
   "name": "python",
   "nbconvert_exporter": "python",
   "pygments_lexer": "ipython3",
   "version": "3.9.6"
  }
 },
 "nbformat": 4,
 "nbformat_minor": 0
}
