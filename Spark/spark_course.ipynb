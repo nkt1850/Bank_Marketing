{
 "cells": [
  {
   "cell_type": "code",
   "execution_count": 12,
   "metadata": {},
   "outputs": [
    {
     "name": "stdout",
     "output_type": "stream",
     "text": [
      "Requirement already satisfied: pyspark in c:\\users\\nktun\\appdata\\local\\programs\\python\\python39\\lib\\site-packages (3.4.0)\n",
      "Requirement already satisfied: py4j==0.10.9.7 in c:\\users\\nktun\\appdata\\local\\programs\\python\\python39\\lib\\site-packages (from pyspark) (0.10.9.7)\n",
      "Note: you may need to restart the kernel to use updated packages.\n"
     ]
    },
    {
     "name": "stderr",
     "output_type": "stream",
     "text": [
      "\n",
      "[notice] A new release of pip is available: 23.1.2 -> 24.2\n",
      "[notice] To update, run: python.exe -m pip install --upgrade pip\n"
     ]
    }
   ],
   "source": [
    "pip install pyspark"
   ]
  },
  {
   "cell_type": "code",
   "execution_count": 13,
   "metadata": {},
   "outputs": [],
   "source": [
    "import pyspark"
   ]
  },
  {
   "cell_type": "code",
   "execution_count": 14,
   "metadata": {},
   "outputs": [
    {
     "data": {
      "text/html": [
       "<div>\n",
       "<style scoped>\n",
       "    .dataframe tbody tr th:only-of-type {\n",
       "        vertical-align: middle;\n",
       "    }\n",
       "\n",
       "    .dataframe tbody tr th {\n",
       "        vertical-align: top;\n",
       "    }\n",
       "\n",
       "    .dataframe thead th {\n",
       "        text-align: right;\n",
       "    }\n",
       "</style>\n",
       "<table border=\"1\" class=\"dataframe\">\n",
       "  <thead>\n",
       "    <tr style=\"text-align: right;\">\n",
       "      <th></th>\n",
       "      <th>pkg_order</th>\n",
       "      <th>shop_code</th>\n",
       "      <th>pick_province</th>\n",
       "      <th>pick_district</th>\n",
       "      <th>pick_ward</th>\n",
       "      <th>pick_region</th>\n",
       "      <th>customer_province</th>\n",
       "      <th>customer_district</th>\n",
       "      <th>customer_ward</th>\n",
       "      <th>customer_region</th>\n",
       "      <th>...</th>\n",
       "      <th>ship_money</th>\n",
       "      <th>pkg_created</th>\n",
       "      <th>transport</th>\n",
       "      <th>nhap_nguon</th>\n",
       "      <th>is_bbs_package</th>\n",
       "      <th>row_num</th>\n",
       "      <th>lien_mien_gia_thap</th>\n",
       "      <th>tgian_lay_tcong</th>\n",
       "      <th>tgian_xuat_giao_dau</th>\n",
       "      <th>tgian_giao_tcong</th>\n",
       "    </tr>\n",
       "  </thead>\n",
       "  <tbody>\n",
       "    <tr>\n",
       "      <th>0</th>\n",
       "      <td>1876698825</td>\n",
       "      <td>S12373055</td>\n",
       "      <td>Hưng Yên</td>\n",
       "      <td>Huyện Văn Giang</td>\n",
       "      <td>Xã Phụng Công</td>\n",
       "      <td>MB</td>\n",
       "      <td>Hà Nội</td>\n",
       "      <td>Quận Từ Liêm</td>\n",
       "      <td>phường Phú Diễn</td>\n",
       "      <td>HN</td>\n",
       "      <td>...</td>\n",
       "      <td>30000</td>\n",
       "      <td>2024-05-31 00:00:06.000</td>\n",
       "      <td>road</td>\n",
       "      <td>2024-05-31 10:33:34.000</td>\n",
       "      <td>0</td>\n",
       "      <td>1</td>\n",
       "      <td>0</td>\n",
       "      <td>2024-05-31 09:49:53.000</td>\n",
       "      <td>2024-05-31 16:03:13.000</td>\n",
       "      <td>2024-05-31 16:10:11.000</td>\n",
       "    </tr>\n",
       "    <tr>\n",
       "      <th>1</th>\n",
       "      <td>1758549146</td>\n",
       "      <td>S13420655</td>\n",
       "      <td>Hưng Yên</td>\n",
       "      <td>Huyện Yên Mỹ</td>\n",
       "      <td>Xã Minh Châu</td>\n",
       "      <td>MB</td>\n",
       "      <td>Thái Bình</td>\n",
       "      <td>Huyện Kiến Xương</td>\n",
       "      <td>Xã Quang Trung</td>\n",
       "      <td>MB</td>\n",
       "      <td>...</td>\n",
       "      <td>21000</td>\n",
       "      <td>2024-05-31 00:00:42.000</td>\n",
       "      <td>road</td>\n",
       "      <td>2024-05-31 17:08:26.000</td>\n",
       "      <td>0</td>\n",
       "      <td>2</td>\n",
       "      <td>0</td>\n",
       "      <td>2024-05-31 14:24:50.000</td>\n",
       "      <td>2024-06-01 07:31:31.000</td>\n",
       "      <td>2024-06-01 09:35:51.000</td>\n",
       "    </tr>\n",
       "    <tr>\n",
       "      <th>2</th>\n",
       "      <td>1119909915</td>\n",
       "      <td>S13420655</td>\n",
       "      <td>Hưng Yên</td>\n",
       "      <td>Huyện Yên Mỹ</td>\n",
       "      <td>Xã Minh Châu</td>\n",
       "      <td>MB</td>\n",
       "      <td>Lâm Đồng</td>\n",
       "      <td>Đức Trọng</td>\n",
       "      <td>Xã Hiệp Thạnh</td>\n",
       "      <td>NTB&amp;TN</td>\n",
       "      <td>...</td>\n",
       "      <td>21000</td>\n",
       "      <td>2024-05-31 00:01:41.000</td>\n",
       "      <td>road</td>\n",
       "      <td>2024-05-31 17:08:26.000</td>\n",
       "      <td>0</td>\n",
       "      <td>3</td>\n",
       "      <td>1</td>\n",
       "      <td>2024-05-31 14:24:50.000</td>\n",
       "      <td>2024-06-03 08:25:02.000</td>\n",
       "      <td>2024-06-03 13:13:39.000</td>\n",
       "    </tr>\n",
       "    <tr>\n",
       "      <th>3</th>\n",
       "      <td>1095164868</td>\n",
       "      <td>S19610666</td>\n",
       "      <td>Hưng Yên</td>\n",
       "      <td>Thành phố Hưng Yên</td>\n",
       "      <td>Xã Phú Cường</td>\n",
       "      <td>MB</td>\n",
       "      <td>Hưng Yên</td>\n",
       "      <td>Huyện Phù Cừ</td>\n",
       "      <td>Thị trấn Trần Cao</td>\n",
       "      <td>MB</td>\n",
       "      <td>...</td>\n",
       "      <td>30000</td>\n",
       "      <td>2024-05-31 00:02:35.000</td>\n",
       "      <td>road</td>\n",
       "      <td>2024-05-31 17:31:23.000</td>\n",
       "      <td>0</td>\n",
       "      <td>4</td>\n",
       "      <td>0</td>\n",
       "      <td>2024-05-31 16:41:23.000</td>\n",
       "      <td>2024-06-01 07:30:32.000</td>\n",
       "      <td>2024-06-01 10:12:23.000</td>\n",
       "    </tr>\n",
       "    <tr>\n",
       "      <th>4</th>\n",
       "      <td>1785262558</td>\n",
       "      <td>S13420655</td>\n",
       "      <td>Hưng Yên</td>\n",
       "      <td>Huyện Yên Mỹ</td>\n",
       "      <td>Xã Minh Châu</td>\n",
       "      <td>MB</td>\n",
       "      <td>Hà Nội</td>\n",
       "      <td>Đông Anh</td>\n",
       "      <td>Xã Võng La</td>\n",
       "      <td>HN</td>\n",
       "      <td>...</td>\n",
       "      <td>21000</td>\n",
       "      <td>2024-05-31 00:02:37.000</td>\n",
       "      <td>road</td>\n",
       "      <td>2024-05-31 17:08:26.000</td>\n",
       "      <td>0</td>\n",
       "      <td>5</td>\n",
       "      <td>0</td>\n",
       "      <td>2024-05-31 14:23:28.000</td>\n",
       "      <td>2024-06-01 14:24:42.000</td>\n",
       "      <td>2024-06-03 17:18:17.000</td>\n",
       "    </tr>\n",
       "    <tr>\n",
       "      <th>...</th>\n",
       "      <td>...</td>\n",
       "      <td>...</td>\n",
       "      <td>...</td>\n",
       "      <td>...</td>\n",
       "      <td>...</td>\n",
       "      <td>...</td>\n",
       "      <td>...</td>\n",
       "      <td>...</td>\n",
       "      <td>...</td>\n",
       "      <td>...</td>\n",
       "      <td>...</td>\n",
       "      <td>...</td>\n",
       "      <td>...</td>\n",
       "      <td>...</td>\n",
       "      <td>...</td>\n",
       "      <td>...</td>\n",
       "      <td>...</td>\n",
       "      <td>...</td>\n",
       "      <td>...</td>\n",
       "      <td>...</td>\n",
       "      <td>...</td>\n",
       "    </tr>\n",
       "    <tr>\n",
       "      <th>6365</th>\n",
       "      <td>1504383610</td>\n",
       "      <td>S18620200</td>\n",
       "      <td>Hưng Yên</td>\n",
       "      <td>Huyện Ân Thi</td>\n",
       "      <td>Xã Văn Nhuệ</td>\n",
       "      <td>MB</td>\n",
       "      <td>TP Hồ Chí Minh</td>\n",
       "      <td>Thành phố Thủ Đức</td>\n",
       "      <td>Phường Linh Đông</td>\n",
       "      <td>HCM</td>\n",
       "      <td>...</td>\n",
       "      <td>20000</td>\n",
       "      <td>2024-07-19 00:07:36.000</td>\n",
       "      <td>road</td>\n",
       "      <td>2024-07-20 08:24:11.000</td>\n",
       "      <td>0</td>\n",
       "      <td>66</td>\n",
       "      <td>1</td>\n",
       "      <td>2024-07-20 07:31:59.000</td>\n",
       "      <td>2024-07-22 14:24:52.000</td>\n",
       "      <td>2024-07-22 14:52:34.000</td>\n",
       "    </tr>\n",
       "    <tr>\n",
       "      <th>6366</th>\n",
       "      <td>1782119711</td>\n",
       "      <td>S21674574</td>\n",
       "      <td>Hưng Yên</td>\n",
       "      <td>Huyện Kim Động</td>\n",
       "      <td>Xã Mai Động</td>\n",
       "      <td>MB</td>\n",
       "      <td>Lâm Đồng</td>\n",
       "      <td>Huyện Lạc Dương</td>\n",
       "      <td>Thị trấn Lạc Dương</td>\n",
       "      <td>NTB&amp;TN</td>\n",
       "      <td>...</td>\n",
       "      <td>19000</td>\n",
       "      <td>2024-07-19 00:07:36.000</td>\n",
       "      <td>road</td>\n",
       "      <td>2024-07-19 16:13:48.000</td>\n",
       "      <td>0</td>\n",
       "      <td>67</td>\n",
       "      <td>1</td>\n",
       "      <td>2024-07-19 09:30:32.000</td>\n",
       "      <td>2024-07-23 08:03:33.000</td>\n",
       "      <td>2024-07-23 15:06:18.000</td>\n",
       "    </tr>\n",
       "    <tr>\n",
       "      <th>6367</th>\n",
       "      <td>1545756993</td>\n",
       "      <td>S18620200</td>\n",
       "      <td>Hưng Yên</td>\n",
       "      <td>Huyện Ân Thi</td>\n",
       "      <td>Xã Văn Nhuệ</td>\n",
       "      <td>MB</td>\n",
       "      <td>Hà Nội</td>\n",
       "      <td>Đông Anh</td>\n",
       "      <td>Xã Kim Nỗ</td>\n",
       "      <td>HN</td>\n",
       "      <td>...</td>\n",
       "      <td>20000</td>\n",
       "      <td>2024-07-19 00:07:38.000</td>\n",
       "      <td>road</td>\n",
       "      <td>2024-07-20 08:24:11.000</td>\n",
       "      <td>0</td>\n",
       "      <td>68</td>\n",
       "      <td>0</td>\n",
       "      <td>2024-07-20 07:32:00.000</td>\n",
       "      <td>2024-07-20 15:11:20.000</td>\n",
       "      <td>2024-07-21 17:29:54.000</td>\n",
       "    </tr>\n",
       "    <tr>\n",
       "      <th>6368</th>\n",
       "      <td>1965225828</td>\n",
       "      <td>S18620200</td>\n",
       "      <td>Hưng Yên</td>\n",
       "      <td>Huyện Ân Thi</td>\n",
       "      <td>Xã Văn Nhuệ</td>\n",
       "      <td>MB</td>\n",
       "      <td>Lâm Đồng</td>\n",
       "      <td>Huyện Đạ Tẻh</td>\n",
       "      <td>Thị Trấn Đạ Tẻh</td>\n",
       "      <td>NTB&amp;TN</td>\n",
       "      <td>...</td>\n",
       "      <td>20000</td>\n",
       "      <td>2024-07-19 00:07:40.000</td>\n",
       "      <td>road</td>\n",
       "      <td>2024-07-20 08:24:11.000</td>\n",
       "      <td>0</td>\n",
       "      <td>69</td>\n",
       "      <td>1</td>\n",
       "      <td>2024-07-20 07:31:59.000</td>\n",
       "      <td>2024-07-23 17:05:56.000</td>\n",
       "      <td>2024-07-23 18:00:51.000</td>\n",
       "    </tr>\n",
       "    <tr>\n",
       "      <th>6369</th>\n",
       "      <td>1629186210</td>\n",
       "      <td>S18620200</td>\n",
       "      <td>Hưng Yên</td>\n",
       "      <td>Huyện Ân Thi</td>\n",
       "      <td>Xã Văn Nhuệ</td>\n",
       "      <td>MB</td>\n",
       "      <td>Bình Dương</td>\n",
       "      <td>Thành phố Dĩ An</td>\n",
       "      <td>Phường Tân Đông Hiệp</td>\n",
       "      <td>MN</td>\n",
       "      <td>...</td>\n",
       "      <td>20000</td>\n",
       "      <td>2024-07-19 00:07:48.000</td>\n",
       "      <td>road</td>\n",
       "      <td>2024-07-20 08:24:11.000</td>\n",
       "      <td>0</td>\n",
       "      <td>70</td>\n",
       "      <td>1</td>\n",
       "      <td>2024-07-20 07:31:59.000</td>\n",
       "      <td>2024-07-26 08:55:26.000</td>\n",
       "      <td>2024-07-26 10:37:04.000</td>\n",
       "    </tr>\n",
       "  </tbody>\n",
       "</table>\n",
       "<p>6370 rows × 23 columns</p>\n",
       "</div>"
      ],
      "text/plain": [
       "       pkg_order  shop_code pick_province       pick_district      pick_ward   \n",
       "0     1876698825  S12373055      Hưng Yên     Huyện Văn Giang  Xã Phụng Công  \\\n",
       "1     1758549146  S13420655      Hưng Yên        Huyện Yên Mỹ   Xã Minh Châu   \n",
       "2     1119909915  S13420655      Hưng Yên        Huyện Yên Mỹ   Xã Minh Châu   \n",
       "3     1095164868  S19610666      Hưng Yên  Thành phố Hưng Yên   Xã Phú Cường   \n",
       "4     1785262558  S13420655      Hưng Yên        Huyện Yên Mỹ   Xã Minh Châu   \n",
       "...          ...        ...           ...                 ...            ...   \n",
       "6365  1504383610  S18620200      Hưng Yên        Huyện Ân Thi    Xã Văn Nhuệ   \n",
       "6366  1782119711  S21674574      Hưng Yên      Huyện Kim Động    Xã Mai Động   \n",
       "6367  1545756993  S18620200      Hưng Yên        Huyện Ân Thi    Xã Văn Nhuệ   \n",
       "6368  1965225828  S18620200      Hưng Yên        Huyện Ân Thi    Xã Văn Nhuệ   \n",
       "6369  1629186210  S18620200      Hưng Yên        Huyện Ân Thi    Xã Văn Nhuệ   \n",
       "\n",
       "     pick_region customer_province  customer_district         customer_ward   \n",
       "0             MB            Hà Nội       Quận Từ Liêm       phường Phú Diễn  \\\n",
       "1             MB         Thái Bình   Huyện Kiến Xương        Xã Quang Trung   \n",
       "2             MB          Lâm Đồng          Đức Trọng         Xã Hiệp Thạnh   \n",
       "3             MB          Hưng Yên       Huyện Phù Cừ     Thị trấn Trần Cao   \n",
       "4             MB            Hà Nội           Đông Anh            Xã Võng La   \n",
       "...          ...               ...                ...                   ...   \n",
       "6365          MB    TP Hồ Chí Minh  Thành phố Thủ Đức      Phường Linh Đông   \n",
       "6366          MB          Lâm Đồng    Huyện Lạc Dương    Thị trấn Lạc Dương   \n",
       "6367          MB            Hà Nội           Đông Anh             Xã Kim Nỗ   \n",
       "6368          MB          Lâm Đồng       Huyện Đạ Tẻh       Thị Trấn Đạ Tẻh   \n",
       "6369          MB        Bình Dương    Thành phố Dĩ An  Phường Tân Đông Hiệp   \n",
       "\n",
       "     customer_region  ... ship_money              pkg_created  transport   \n",
       "0                 HN  ...      30000  2024-05-31 00:00:06.000       road  \\\n",
       "1                 MB  ...      21000  2024-05-31 00:00:42.000       road   \n",
       "2             NTB&TN  ...      21000  2024-05-31 00:01:41.000       road   \n",
       "3                 MB  ...      30000  2024-05-31 00:02:35.000       road   \n",
       "4                 HN  ...      21000  2024-05-31 00:02:37.000       road   \n",
       "...              ...  ...        ...                      ...        ...   \n",
       "6365             HCM  ...      20000  2024-07-19 00:07:36.000       road   \n",
       "6366          NTB&TN  ...      19000  2024-07-19 00:07:36.000       road   \n",
       "6367              HN  ...      20000  2024-07-19 00:07:38.000       road   \n",
       "6368          NTB&TN  ...      20000  2024-07-19 00:07:40.000       road   \n",
       "6369              MN  ...      20000  2024-07-19 00:07:48.000       road   \n",
       "\n",
       "                   nhap_nguon is_bbs_package row_num lien_mien_gia_thap   \n",
       "0     2024-05-31 10:33:34.000              0       1                  0  \\\n",
       "1     2024-05-31 17:08:26.000              0       2                  0   \n",
       "2     2024-05-31 17:08:26.000              0       3                  1   \n",
       "3     2024-05-31 17:31:23.000              0       4                  0   \n",
       "4     2024-05-31 17:08:26.000              0       5                  0   \n",
       "...                       ...            ...     ...                ...   \n",
       "6365  2024-07-20 08:24:11.000              0      66                  1   \n",
       "6366  2024-07-19 16:13:48.000              0      67                  1   \n",
       "6367  2024-07-20 08:24:11.000              0      68                  0   \n",
       "6368  2024-07-20 08:24:11.000              0      69                  1   \n",
       "6369  2024-07-20 08:24:11.000              0      70                  1   \n",
       "\n",
       "              tgian_lay_tcong      tgian_xuat_giao_dau   \n",
       "0     2024-05-31 09:49:53.000  2024-05-31 16:03:13.000  \\\n",
       "1     2024-05-31 14:24:50.000  2024-06-01 07:31:31.000   \n",
       "2     2024-05-31 14:24:50.000  2024-06-03 08:25:02.000   \n",
       "3     2024-05-31 16:41:23.000  2024-06-01 07:30:32.000   \n",
       "4     2024-05-31 14:23:28.000  2024-06-01 14:24:42.000   \n",
       "...                       ...                      ...   \n",
       "6365  2024-07-20 07:31:59.000  2024-07-22 14:24:52.000   \n",
       "6366  2024-07-19 09:30:32.000  2024-07-23 08:03:33.000   \n",
       "6367  2024-07-20 07:32:00.000  2024-07-20 15:11:20.000   \n",
       "6368  2024-07-20 07:31:59.000  2024-07-23 17:05:56.000   \n",
       "6369  2024-07-20 07:31:59.000  2024-07-26 08:55:26.000   \n",
       "\n",
       "             tgian_giao_tcong  \n",
       "0     2024-05-31 16:10:11.000  \n",
       "1     2024-06-01 09:35:51.000  \n",
       "2     2024-06-03 13:13:39.000  \n",
       "3     2024-06-01 10:12:23.000  \n",
       "4     2024-06-03 17:18:17.000  \n",
       "...                       ...  \n",
       "6365  2024-07-22 14:52:34.000  \n",
       "6366  2024-07-23 15:06:18.000  \n",
       "6367  2024-07-21 17:29:54.000  \n",
       "6368  2024-07-23 18:00:51.000  \n",
       "6369  2024-07-26 10:37:04.000  \n",
       "\n",
       "[6370 rows x 23 columns]"
      ]
     },
     "execution_count": 14,
     "metadata": {},
     "output_type": "execute_result"
    }
   ],
   "source": [
    "import pandas as pd\n",
    "pd.read_csv(r\"C:\\Users\\nktun\\OneDrive\\Documents\\GitHub\\Bank_Marketing\\Spark\\toan trinh hung yen - 2024.csv\")"
   ]
  },
  {
   "cell_type": "code",
   "execution_count": 15,
   "metadata": {},
   "outputs": [],
   "source": [
    "from pyspark.sql import SparkSession"
   ]
  },
  {
   "cell_type": "code",
   "execution_count": 16,
   "metadata": {},
   "outputs": [],
   "source": [
    "spark = SparkSession.builder.appName('Practice').getOrCreate() # App name & call creation of spark session"
   ]
  },
  {
   "cell_type": "code",
   "execution_count": 17,
   "metadata": {},
   "outputs": [
    {
     "data": {
      "text/html": [
       "\n",
       "            <div>\n",
       "                <p><b>SparkSession - in-memory</b></p>\n",
       "                \n",
       "        <div>\n",
       "            <p><b>SparkContext</b></p>\n",
       "\n",
       "            <p><a href=\"http://Khanh-Tung:4040\">Spark UI</a></p>\n",
       "\n",
       "            <dl>\n",
       "              <dt>Version</dt>\n",
       "                <dd><code>v3.4.0</code></dd>\n",
       "              <dt>Master</dt>\n",
       "                <dd><code>local[*]</code></dd>\n",
       "              <dt>AppName</dt>\n",
       "                <dd><code>Practice</code></dd>\n",
       "            </dl>\n",
       "        </div>\n",
       "        \n",
       "            </div>\n",
       "        "
      ],
      "text/plain": [
       "<pyspark.sql.session.SparkSession at 0x1beaeebf130>"
      ]
     },
     "execution_count": 17,
     "metadata": {},
     "output_type": "execute_result"
    }
   ],
   "source": [
    "spark"
   ]
  },
  {
   "cell_type": "code",
   "execution_count": 18,
   "metadata": {},
   "outputs": [],
   "source": [
    "df_pyspark = spark.read.csv('toan trinh hung yen - 2024.csv')"
   ]
  },
  {
   "cell_type": "code",
   "execution_count": 19,
   "metadata": {},
   "outputs": [
    {
     "data": {
      "text/plain": [
       "DataFrame[_c0: string, _c1: string, _c2: string, _c3: string, _c4: string, _c5: string, _c6: string, _c7: string, _c8: string, _c9: string, _c10: string, _c11: string, _c12: string, _c13: string, _c14: string, _c15: string, _c16: string, _c17: string, _c18: string, _c19: string, _c20: string, _c21: string, _c22: string]"
      ]
     },
     "execution_count": 19,
     "metadata": {},
     "output_type": "execute_result"
    }
   ],
   "source": [
    "df_pyspark # This is just the schema of the file, but all string?"
   ]
  },
  {
   "cell_type": "code",
   "execution_count": 20,
   "metadata": {},
   "outputs": [
    {
     "name": "stdout",
     "output_type": "stream",
     "text": [
      "+----------+---------+-------------+------------------+--------------+-----------+-----------------+-------------------+-----------------+---------------+--------------------+--------+------+----------+--------------------+---------+--------------------+--------------+-------+------------------+--------------------+--------------------+--------------------+\n",
      "|       _c0|      _c1|          _c2|               _c3|           _c4|        _c5|              _c6|                _c7|              _c8|            _c9|                _c10|    _c11|  _c12|      _c13|                _c14|     _c15|                _c16|          _c17|   _c18|              _c19|                _c20|                _c21|                _c22|\n",
      "+----------+---------+-------------+------------------+--------------+-----------+-----------------+-------------------+-----------------+---------------+--------------------+--------+------+----------+--------------------+---------+--------------------+--------------+-------+------------------+--------------------+--------------------+--------------------+\n",
      "| pkg_order|shop_code|pick_province|     pick_district|     pick_ward|pick_region|customer_province|  customer_district|    customer_ward|customer_region|             khu_vuc|pkg_type|weight|ship_money|         pkg_created|transport|          nhap_nguon|is_bbs_package|row_num|lien_mien_gia_thap|     tgian_lay_tcong| tgian_xuat_giao_dau|    tgian_giao_tcong|\n",
      "|1876698825|S12373055|     Hưng Yên|   Huyện Văn Giang| Xã Phụng Công|         MB|           Hà Nội|       Quận Từ Liêm|  phường Phú Diễn|             HN|Nội thành & Ngoại...|      NM|   0.2|     30000|2024-05-31 00:00:...|     road|2024-05-31 10:33:...|             0|      1|                 0|2024-05-31 09:49:...|2024-05-31 16:03:...|2024-05-31 16:10:...|\n",
      "|1758549146|S13420655|     Hưng Yên|      Huyện Yên Mỹ|  Xã Minh Châu|         MB|        Thái Bình|   Huyện Kiến Xương|   Xã Quang Trung|             MB|            Huyện xã|      NM|   3.0|     21000|2024-05-31 00:00:...|     road|2024-05-31 17:08:...|             0|      2|                 0|2024-05-31 14:24:...|2024-06-01 07:31:...|2024-06-01 09:35:...|\n",
      "|1119909915|S13420655|     Hưng Yên|      Huyện Yên Mỹ|  Xã Minh Châu|         MB|         Lâm Đồng|          Đức Trọng|    Xã Hiệp Thạnh|         NTB&TN|            Huyện xã|      LM|   3.0|     21000|2024-05-31 00:01:...|     road|2024-05-31 17:08:...|             0|      3|                 1|2024-05-31 14:24:...|2024-06-03 08:25:...|2024-06-03 13:13:...|\n",
      "|1095164868|S19610666|     Hưng Yên|Thành phố Hưng Yên|  Xã Phú Cường|         MB|         Hưng Yên|       Huyện Phù Cừ|Thị trấn Trần Cao|             MB|            Huyện xã|      NT|   0.1|     30000|2024-05-31 00:02:...|     road|2024-05-31 17:31:...|             0|      4|                 0|2024-05-31 16:41:...|2024-06-01 07:30:...|2024-06-01 10:12:...|\n",
      "|1785262558|S13420655|     Hưng Yên|      Huyện Yên Mỹ|  Xã Minh Châu|         MB|           Hà Nội|           Đông Anh|       Xã Võng La|             HN|            Huyện xã|      NM|   3.0|     21000|2024-05-31 00:02:...|     road|2024-05-31 17:08:...|             0|      5|                 0|2024-05-31 14:23:...|2024-06-01 14:24:...|2024-06-03 17:18:...|\n",
      "|1716286600|S13420655|     Hưng Yên|      Huyện Yên Mỹ|  Xã Minh Châu|         MB|          Phú Thọ|      Huyện Cẩm Khê|      Xã Minh Tân|             MB|            Huyện xã|      NM|   3.0|     21000|2024-05-31 00:03:...|     road|2024-05-31 17:08:...|             0|      6|                 0|2024-05-31 14:24:...|2024-06-01 07:57:...|2024-06-01 10:40:...|\n",
      "|1810224482|S13420655|     Hưng Yên|      Huyện Yên Mỹ|  Xã Minh Châu|         MB|   TP Hồ Chí Minh|        Quận Gò Vấp|        Phường 10|            HCM|Nội thành & Ngoại...|      LM|   3.0|     21000|2024-05-31 00:04:...|     road|2024-05-31 17:08:...|             0|      7|                 1|2024-05-31 14:23:...|2024-06-02 13:37:...|2024-06-02 14:33:...|\n",
      "|1419621264|S13420655|     Hưng Yên|      Huyện Yên Mỹ|  Xã Minh Châu|         MB|          Gia Lai|   Thành phố PleiKu|  Phường Phù Đổng|         NTB&TN|Nội thành & Ngoại...|      LM|   3.0|     21000|2024-05-31 00:05:...|     road|2024-05-31 17:08:...|             0|      8|                 0|2024-05-31 14:24:...|2024-06-02 14:12:...|2024-06-03 11:20:...|\n",
      "|1058671335|S13420655|     Hưng Yên|      Huyện Yên Mỹ|  Xã Minh Châu|         MB|          Gia Lai|   Thành phố PleiKu|  Phường Phù Đổng|         NTB&TN|Nội thành & Ngoại...|      LM|   3.0|     21000|2024-05-31 00:06:...|     road|2024-05-31 17:08:...|             0|      9|                 0|2024-05-31 14:23:...|2024-06-02 14:12:...|2024-06-03 11:20:...|\n",
      "|1610699756|S13420655|     Hưng Yên|      Huyện Yên Mỹ|  Xã Minh Châu|         MB|         Hòa Bình|       Huyện Đà Bắc|       Xã Cao Sơn|             MB|            Huyện xã|      NM|   3.0|     21000|2024-05-31 00:07:...|     road|2024-05-31 17:08:...|             0|     10|                 0|2024-05-31 14:24:...|2024-06-03 08:04:...|2024-06-03 13:57:...|\n",
      "|1440357605|S13420655|     Hưng Yên|      Huyện Yên Mỹ|  Xã Minh Châu|         MB|        Vĩnh Phúc|   Huyện Bình Xuyên|      Xã Trung Mỹ|             MB|            Huyện xã|      NM|   3.0|     21000|2024-05-31 00:08:...|     road|2024-05-31 17:08:...|             0|     11|                 0|2024-05-31 14:24:...|2024-06-01 07:32:...|2024-06-01 11:52:...|\n",
      "|1992637475|S20083464|     Hưng Yên|     Huyện Tiên Lữ|Xã Thiện Phiến|         MB|        Thái Bình|      Huyện Hưng Hà| Thị trấn Hưng Hà|             MB|            Huyện xã|      NM|   1.0|     26000|2024-05-31 00:09:...|     road|2024-05-31 17:46:...|             0|     12|                 0|2024-05-31 17:11:...|2024-06-01 07:38:...|2024-06-01 10:45:...|\n",
      "|1016593561|S13420655|     Hưng Yên|      Huyện Yên Mỹ|  Xã Minh Châu|         MB|          Lào Cai|       Thị xã Sa Pa|        Xã Bản Hồ|             MB|            Huyện xã|      NM|   3.0|     21000|2024-05-31 00:10:...|     road|2024-05-31 17:08:...|             0|     13|                 0|2024-05-31 14:24:...|2024-06-01 08:05:...|2024-06-01 15:02:...|\n",
      "|1430114593|S13420655|     Hưng Yên|      Huyện Yên Mỹ|  Xã Minh Châu|         MB|          Hà Tĩnh|   Thị xã Hồng Lĩnh|  Phường Nam Hồng|             MB|Nội thành & Ngoại...|      NM|   5.0|     25000|2024-05-31 00:11:...|     road|2024-05-31 13:44:...|             0|     14|                 0|2024-05-31 13:44:...|2024-06-01 07:38:...|2024-06-01 09:04:...|\n",
      "|1369581451|S19610666|     Hưng Yên|Thành phố Hưng Yên|  Xã Phú Cường|         MB|        Thái Bình|Thành phố Thái Bình|       Xã Vũ Đông|             MB|Nội thành & Ngoại...|      NM|   0.1|     30000|2024-05-31 00:11:...|     road|2024-05-31 17:31:...|             0|     15|                 0|2024-05-31 16:41:...|2024-06-01 07:49:...|2024-06-01 12:08:...|\n",
      "|1542094532|S13420655|     Hưng Yên|      Huyện Yên Mỹ|  Xã Minh Châu|         MB|         Nam Định|      Huyện Hải Hậu|      Xã Hải Hưng|             MB|            Huyện xã|      NM|   3.0|     21000|2024-05-31 00:12:...|     road|2024-05-31 17:08:...|             0|     16|                 0|2024-05-31 14:23:...|2024-06-01 08:11:...|2024-06-01 15:05:...|\n",
      "|1227920607|S20083464|     Hưng Yên|     Huyện Tiên Lữ|Xã Thiện Phiến|         MB|         Bắc Ninh|      Huyện Tiên Du|      Xã Hiên Vân|             MB|Nội thành & Ngoại...|      NM|  10.0|     52000|2024-05-31 00:13:...|     road|2024-05-31 17:55:...|             0|     17|                 0|2024-05-31 17:54:...|2024-06-01 15:17:...|2024-06-01 16:03:...|\n",
      "|1527371880|S13420655|     Hưng Yên|      Huyện Yên Mỹ|  Xã Minh Châu|         MB|         Lạng Sơn|     Huyện Lộc Bình|    Xã Thống Nhất|             MB|            Huyện xã|      NM|   4.5|     25000|2024-05-31 00:13:...|     road|2024-05-31 13:44:...|             0|     18|                 0|2024-05-31 13:44:...|2024-06-01 07:56:...|2024-06-01 10:55:...|\n",
      "|1067142678|S20083464|     Hưng Yên|     Huyện Tiên Lữ|Xã Thiện Phiến|         MB|         Bắc Ninh|      Huyện Tiên Du|      Xã Hiên Vân|             MB|Nội thành & Ngoại...|      NM|  10.0|     52000|2024-05-31 00:14:...|     road|2024-05-31 17:55:...|             0|     19|                 0|2024-05-31 17:54:...|2024-06-01 15:17:...|2024-06-01 16:03:...|\n",
      "+----------+---------+-------------+------------------+--------------+-----------+-----------------+-------------------+-----------------+---------------+--------------------+--------+------+----------+--------------------+---------+--------------------+--------------+-------+------------------+--------------------+--------------------+--------------------+\n",
      "only showing top 20 rows\n",
      "\n"
     ]
    }
   ],
   "source": [
    "df_pyspark.show()"
   ]
  },
  {
   "cell_type": "code",
   "execution_count": 21,
   "metadata": {},
   "outputs": [],
   "source": [
    "df_pyspark = spark.read.option('header', 'TRUE').csv('toan trinh hung yen - 2024.csv')"
   ]
  },
  {
   "cell_type": "code",
   "execution_count": 22,
   "metadata": {},
   "outputs": [
    {
     "data": {
      "text/plain": [
       "pyspark.sql.dataframe.DataFrame"
      ]
     },
     "execution_count": 22,
     "metadata": {},
     "output_type": "execute_result"
    }
   ],
   "source": [
    "type(df_pyspark) #Not just a replicate of Pandas dataframe --> Contain different functionalities"
   ]
  },
  {
   "cell_type": "code",
   "execution_count": 23,
   "metadata": {},
   "outputs": [
    {
     "data": {
      "text/plain": [
       "[Row(pkg_order='1876698825', shop_code='S12373055', pick_province='Hưng Yên', pick_district='Huyện Văn Giang', pick_ward='Xã Phụng Công', pick_region='MB', customer_province='Hà Nội', customer_district='Quận Từ Liêm', customer_ward='phường Phú Diễn', customer_region='HN', khu_vuc='Nội thành & Ngoại thành', pkg_type='NM', weight='0.2', ship_money='30000', pkg_created='2024-05-31 00:00:06.000', transport='road', nhap_nguon='2024-05-31 10:33:34.000', is_bbs_package='0', row_num='1', lien_mien_gia_thap='0', tgian_lay_tcong='2024-05-31 09:49:53.000', tgian_xuat_giao_dau='2024-05-31 16:03:13.000', tgian_giao_tcong='2024-05-31 16:10:11.000'),\n",
       " Row(pkg_order='1758549146', shop_code='S13420655', pick_province='Hưng Yên', pick_district='Huyện Yên Mỹ', pick_ward='Xã Minh Châu', pick_region='MB', customer_province='Thái Bình', customer_district='Huyện Kiến Xương', customer_ward='Xã Quang Trung', customer_region='MB', khu_vuc='Huyện xã', pkg_type='NM', weight='3.0', ship_money='21000', pkg_created='2024-05-31 00:00:42.000', transport='road', nhap_nguon='2024-05-31 17:08:26.000', is_bbs_package='0', row_num='2', lien_mien_gia_thap='0', tgian_lay_tcong='2024-05-31 14:24:50.000', tgian_xuat_giao_dau='2024-06-01 07:31:31.000', tgian_giao_tcong='2024-06-01 09:35:51.000'),\n",
       " Row(pkg_order='1119909915', shop_code='S13420655', pick_province='Hưng Yên', pick_district='Huyện Yên Mỹ', pick_ward='Xã Minh Châu', pick_region='MB', customer_province='Lâm Đồng', customer_district='Đức Trọng', customer_ward='Xã Hiệp Thạnh', customer_region='NTB&TN', khu_vuc='Huyện xã', pkg_type='LM', weight='3.0', ship_money='21000', pkg_created='2024-05-31 00:01:41.000', transport='road', nhap_nguon='2024-05-31 17:08:26.000', is_bbs_package='0', row_num='3', lien_mien_gia_thap='1', tgian_lay_tcong='2024-05-31 14:24:50.000', tgian_xuat_giao_dau='2024-06-03 08:25:02.000', tgian_giao_tcong='2024-06-03 13:13:39.000'),\n",
       " Row(pkg_order='1095164868', shop_code='S19610666', pick_province='Hưng Yên', pick_district='Thành phố Hưng Yên', pick_ward='Xã Phú Cường', pick_region='MB', customer_province='Hưng Yên', customer_district='Huyện Phù Cừ', customer_ward='Thị trấn Trần Cao', customer_region='MB', khu_vuc='Huyện xã', pkg_type='NT', weight='0.1', ship_money='30000', pkg_created='2024-05-31 00:02:35.000', transport='road', nhap_nguon='2024-05-31 17:31:23.000', is_bbs_package='0', row_num='4', lien_mien_gia_thap='0', tgian_lay_tcong='2024-05-31 16:41:23.000', tgian_xuat_giao_dau='2024-06-01 07:30:32.000', tgian_giao_tcong='2024-06-01 10:12:23.000'),\n",
       " Row(pkg_order='1785262558', shop_code='S13420655', pick_province='Hưng Yên', pick_district='Huyện Yên Mỹ', pick_ward='Xã Minh Châu', pick_region='MB', customer_province='Hà Nội', customer_district='Đông Anh', customer_ward='Xã Võng La', customer_region='HN', khu_vuc='Huyện xã', pkg_type='NM', weight='3.0', ship_money='21000', pkg_created='2024-05-31 00:02:37.000', transport='road', nhap_nguon='2024-05-31 17:08:26.000', is_bbs_package='0', row_num='5', lien_mien_gia_thap='0', tgian_lay_tcong='2024-05-31 14:23:28.000', tgian_xuat_giao_dau='2024-06-01 14:24:42.000', tgian_giao_tcong='2024-06-03 17:18:17.000')]"
      ]
     },
     "execution_count": 23,
     "metadata": {},
     "output_type": "execute_result"
    }
   ],
   "source": [
    "df_pyspark.head(5)"
   ]
  },
  {
   "cell_type": "code",
   "execution_count": 24,
   "metadata": {},
   "outputs": [
    {
     "name": "stdout",
     "output_type": "stream",
     "text": [
      "root\n",
      " |-- pkg_order: string (nullable = true)\n",
      " |-- shop_code: string (nullable = true)\n",
      " |-- pick_province: string (nullable = true)\n",
      " |-- pick_district: string (nullable = true)\n",
      " |-- pick_ward: string (nullable = true)\n",
      " |-- pick_region: string (nullable = true)\n",
      " |-- customer_province: string (nullable = true)\n",
      " |-- customer_district: string (nullable = true)\n",
      " |-- customer_ward: string (nullable = true)\n",
      " |-- customer_region: string (nullable = true)\n",
      " |-- khu_vuc: string (nullable = true)\n",
      " |-- pkg_type: string (nullable = true)\n",
      " |-- weight: string (nullable = true)\n",
      " |-- ship_money: string (nullable = true)\n",
      " |-- pkg_created: string (nullable = true)\n",
      " |-- transport: string (nullable = true)\n",
      " |-- nhap_nguon: string (nullable = true)\n",
      " |-- is_bbs_package: string (nullable = true)\n",
      " |-- row_num: string (nullable = true)\n",
      " |-- lien_mien_gia_thap: string (nullable = true)\n",
      " |-- tgian_lay_tcong: string (nullable = true)\n",
      " |-- tgian_xuat_giao_dau: string (nullable = true)\n",
      " |-- tgian_giao_tcong: string (nullable = true)\n",
      "\n"
     ]
    }
   ],
   "source": [
    "df_pyspark.printSchema() # Like df.info()"
   ]
  },
  {
   "cell_type": "markdown",
   "metadata": {},
   "source": [
    "Part 1 of the video begins here"
   ]
  },
  {
   "cell_type": "code",
   "execution_count": 25,
   "metadata": {},
   "outputs": [],
   "source": [
    "from pyspark.sql import SparkSession"
   ]
  },
  {
   "cell_type": "code",
   "execution_count": 26,
   "metadata": {},
   "outputs": [],
   "source": [
    "spark = SparkSession.builder.appName('Dataframe').getOrCreate()"
   ]
  },
  {
   "cell_type": "code",
   "execution_count": 27,
   "metadata": {},
   "outputs": [
    {
     "data": {
      "text/html": [
       "\n",
       "            <div>\n",
       "                <p><b>SparkSession - in-memory</b></p>\n",
       "                \n",
       "        <div>\n",
       "            <p><b>SparkContext</b></p>\n",
       "\n",
       "            <p><a href=\"http://Khanh-Tung:4040\">Spark UI</a></p>\n",
       "\n",
       "            <dl>\n",
       "              <dt>Version</dt>\n",
       "                <dd><code>v3.4.0</code></dd>\n",
       "              <dt>Master</dt>\n",
       "                <dd><code>local[*]</code></dd>\n",
       "              <dt>AppName</dt>\n",
       "                <dd><code>Practice</code></dd>\n",
       "            </dl>\n",
       "        </div>\n",
       "        \n",
       "            </div>\n",
       "        "
      ],
      "text/plain": [
       "<pyspark.sql.session.SparkSession at 0x1beaeebf130>"
      ]
     },
     "execution_count": 27,
     "metadata": {},
     "output_type": "execute_result"
    }
   ],
   "source": [
    "spark"
   ]
  },
  {
   "cell_type": "code",
   "execution_count": 28,
   "metadata": {},
   "outputs": [],
   "source": [
    "## Read dataset again\n",
    "df_pyspark_p1 = spark.read.option('header', 'true').csv('toan trinh hung yen - 2024.csv', inferSchema=True)"
   ]
  },
  {
   "cell_type": "code",
   "execution_count": 29,
   "metadata": {},
   "outputs": [
    {
     "name": "stdout",
     "output_type": "stream",
     "text": [
      "root\n",
      " |-- pkg_order: integer (nullable = true)\n",
      " |-- shop_code: string (nullable = true)\n",
      " |-- pick_province: string (nullable = true)\n",
      " |-- pick_district: string (nullable = true)\n",
      " |-- pick_ward: string (nullable = true)\n",
      " |-- pick_region: string (nullable = true)\n",
      " |-- customer_province: string (nullable = true)\n",
      " |-- customer_district: string (nullable = true)\n",
      " |-- customer_ward: string (nullable = true)\n",
      " |-- customer_region: string (nullable = true)\n",
      " |-- khu_vuc: string (nullable = true)\n",
      " |-- pkg_type: string (nullable = true)\n",
      " |-- weight: double (nullable = true)\n",
      " |-- ship_money: integer (nullable = true)\n",
      " |-- pkg_created: timestamp (nullable = true)\n",
      " |-- transport: string (nullable = true)\n",
      " |-- nhap_nguon: timestamp (nullable = true)\n",
      " |-- is_bbs_package: integer (nullable = true)\n",
      " |-- row_num: integer (nullable = true)\n",
      " |-- lien_mien_gia_thap: integer (nullable = true)\n",
      " |-- tgian_lay_tcong: timestamp (nullable = true)\n",
      " |-- tgian_xuat_giao_dau: timestamp (nullable = true)\n",
      " |-- tgian_giao_tcong: timestamp (nullable = true)\n",
      "\n"
     ]
    }
   ],
   "source": [
    "df_pyspark_p1.printSchema()"
   ]
  },
  {
   "cell_type": "code",
   "execution_count": 30,
   "metadata": {},
   "outputs": [],
   "source": [
    "# Additional way to read csv\n",
    "df_pyspark_p1 = spark.read.csv('toan trinh hung yen - 2024.csv', header=True, inferSchema=True)"
   ]
  },
  {
   "cell_type": "code",
   "execution_count": 31,
   "metadata": {},
   "outputs": [
    {
     "name": "stdout",
     "output_type": "stream",
     "text": [
      "root\n",
      " |-- pkg_order: integer (nullable = true)\n",
      " |-- shop_code: string (nullable = true)\n",
      " |-- pick_province: string (nullable = true)\n",
      " |-- pick_district: string (nullable = true)\n",
      " |-- pick_ward: string (nullable = true)\n",
      " |-- pick_region: string (nullable = true)\n",
      " |-- customer_province: string (nullable = true)\n",
      " |-- customer_district: string (nullable = true)\n",
      " |-- customer_ward: string (nullable = true)\n",
      " |-- customer_region: string (nullable = true)\n",
      " |-- khu_vuc: string (nullable = true)\n",
      " |-- pkg_type: string (nullable = true)\n",
      " |-- weight: double (nullable = true)\n",
      " |-- ship_money: integer (nullable = true)\n",
      " |-- pkg_created: timestamp (nullable = true)\n",
      " |-- transport: string (nullable = true)\n",
      " |-- nhap_nguon: timestamp (nullable = true)\n",
      " |-- is_bbs_package: integer (nullable = true)\n",
      " |-- row_num: integer (nullable = true)\n",
      " |-- lien_mien_gia_thap: integer (nullable = true)\n",
      " |-- tgian_lay_tcong: timestamp (nullable = true)\n",
      " |-- tgian_xuat_giao_dau: timestamp (nullable = true)\n",
      " |-- tgian_giao_tcong: timestamp (nullable = true)\n",
      "\n"
     ]
    }
   ],
   "source": [
    "df_pyspark_p1.printSchema()"
   ]
  },
  {
   "cell_type": "code",
   "execution_count": 32,
   "metadata": {},
   "outputs": [
    {
     "data": {
      "text/plain": [
       "pyspark.sql.dataframe.DataFrame"
      ]
     },
     "execution_count": 32,
     "metadata": {},
     "output_type": "execute_result"
    }
   ],
   "source": [
    "type(df_pyspark_p1)"
   ]
  },
  {
   "cell_type": "code",
   "execution_count": 33,
   "metadata": {},
   "outputs": [
    {
     "data": {
      "text/plain": [
       "['pkg_order',\n",
       " 'shop_code',\n",
       " 'pick_province',\n",
       " 'pick_district',\n",
       " 'pick_ward',\n",
       " 'pick_region',\n",
       " 'customer_province',\n",
       " 'customer_district',\n",
       " 'customer_ward',\n",
       " 'customer_region',\n",
       " 'khu_vuc',\n",
       " 'pkg_type',\n",
       " 'weight',\n",
       " 'ship_money',\n",
       " 'pkg_created',\n",
       " 'transport',\n",
       " 'nhap_nguon',\n",
       " 'is_bbs_package',\n",
       " 'row_num',\n",
       " 'lien_mien_gia_thap',\n",
       " 'tgian_lay_tcong',\n",
       " 'tgian_xuat_giao_dau',\n",
       " 'tgian_giao_tcong']"
      ]
     },
     "execution_count": 33,
     "metadata": {},
     "output_type": "execute_result"
    }
   ],
   "source": [
    "df_pyspark_p1.columns # Like pandas DF"
   ]
  },
  {
   "cell_type": "code",
   "execution_count": 34,
   "metadata": {},
   "outputs": [
    {
     "name": "stdout",
     "output_type": "stream",
     "text": [
      "+----------+\n",
      "| pkg_order|\n",
      "+----------+\n",
      "|1876698825|\n",
      "|1758549146|\n",
      "|1119909915|\n",
      "|1095164868|\n",
      "|1785262558|\n",
      "|1716286600|\n",
      "|1810224482|\n",
      "|1419621264|\n",
      "|1058671335|\n",
      "|1610699756|\n",
      "|1440357605|\n",
      "|1992637475|\n",
      "|1016593561|\n",
      "|1430114593|\n",
      "|1369581451|\n",
      "|1542094532|\n",
      "|1227920607|\n",
      "|1527371880|\n",
      "|1067142678|\n",
      "|1326700818|\n",
      "+----------+\n",
      "only showing top 20 rows\n",
      "\n"
     ]
    }
   ],
   "source": [
    "df_pyspark_p1.select('pkg_order').show() # dot select"
   ]
  },
  {
   "cell_type": "code",
   "execution_count": 35,
   "metadata": {},
   "outputs": [
    {
     "name": "stdout",
     "output_type": "stream",
     "text": [
      "+----------+------+\n",
      "| pkg_order|weight|\n",
      "+----------+------+\n",
      "|1876698825|   0.2|\n",
      "|1758549146|   3.0|\n",
      "|1119909915|   3.0|\n",
      "|1095164868|   0.1|\n",
      "|1785262558|   3.0|\n",
      "|1716286600|   3.0|\n",
      "|1810224482|   3.0|\n",
      "|1419621264|   3.0|\n",
      "|1058671335|   3.0|\n",
      "|1610699756|   3.0|\n",
      "|1440357605|   3.0|\n",
      "|1992637475|   1.0|\n",
      "|1016593561|   3.0|\n",
      "|1430114593|   5.0|\n",
      "|1369581451|   0.1|\n",
      "|1542094532|   3.0|\n",
      "|1227920607|  10.0|\n",
      "|1527371880|   4.5|\n",
      "|1067142678|  10.0|\n",
      "|1326700818|   0.7|\n",
      "+----------+------+\n",
      "only showing top 20 rows\n",
      "\n"
     ]
    }
   ],
   "source": [
    "df_pyspark_p1.select(['pkg_order', 'weight']).show()"
   ]
  },
  {
   "cell_type": "code",
   "execution_count": 36,
   "metadata": {},
   "outputs": [
    {
     "data": {
      "text/plain": [
       "[('pkg_order', 'int'),\n",
       " ('shop_code', 'string'),\n",
       " ('pick_province', 'string'),\n",
       " ('pick_district', 'string'),\n",
       " ('pick_ward', 'string'),\n",
       " ('pick_region', 'string'),\n",
       " ('customer_province', 'string'),\n",
       " ('customer_district', 'string'),\n",
       " ('customer_ward', 'string'),\n",
       " ('customer_region', 'string'),\n",
       " ('khu_vuc', 'string'),\n",
       " ('pkg_type', 'string'),\n",
       " ('weight', 'double'),\n",
       " ('ship_money', 'int'),\n",
       " ('pkg_created', 'timestamp'),\n",
       " ('transport', 'string'),\n",
       " ('nhap_nguon', 'timestamp'),\n",
       " ('is_bbs_package', 'int'),\n",
       " ('row_num', 'int'),\n",
       " ('lien_mien_gia_thap', 'int'),\n",
       " ('tgian_lay_tcong', 'timestamp'),\n",
       " ('tgian_xuat_giao_dau', 'timestamp'),\n",
       " ('tgian_giao_tcong', 'timestamp')]"
      ]
     },
     "execution_count": 36,
     "metadata": {},
     "output_type": "execute_result"
    }
   ],
   "source": [
    "df_pyspark_p1.dtypes"
   ]
  },
  {
   "cell_type": "markdown",
   "metadata": {},
   "source": [
    "Most functionalities are similar in pandas as they are in SparkSQL"
   ]
  },
  {
   "cell_type": "code",
   "execution_count": 37,
   "metadata": {},
   "outputs": [
    {
     "name": "stdout",
     "output_type": "stream",
     "text": [
      "+-------+--------------------+---------+-------------+------------------+-------------+-----------+-----------------+-----------------+-------------+---------------+--------------------+--------+------------------+------------------+---------+--------------------+------------------+-------------------+\n",
      "|summary|           pkg_order|shop_code|pick_province|     pick_district|    pick_ward|pick_region|customer_province|customer_district|customer_ward|customer_region|             khu_vuc|pkg_type|            weight|        ship_money|transport|      is_bbs_package|           row_num| lien_mien_gia_thap|\n",
      "+-------+--------------------+---------+-------------+------------------+-------------+-----------+-----------------+-----------------+-------------+---------------+--------------------+--------+------------------+------------------+---------+--------------------+------------------+-------------------+\n",
      "|  count|                6370|     6370|         6370|              6370|         6369|       6370|             6370|             6370|         6368|           6370|                6370|    6370|              6370|              6370|     6370|                6370|              6370|               6370|\n",
      "|   mean|1.4981346490169544E9|     null|         null|              null|         null|       null|             null|             null|         null|           null|                null|    null| 2.034789638932513|26229.827315541603|     null|0.006436420722135008|              35.5|0.25635792778649924|\n",
      "| stddev| 2.901996478966828E8|     null|         null|              null|         null|       null|             null|             null|         null|           null|                null|    null|3.8834602106149005|17672.604071098274|     null|  0.0799749791599233|20.206783503186983| 0.4366560121008916|\n",
      "|    min|          1000395538|S10313054|     Hưng Yên|  Huyện Khoái Châu|Phường An Tảo|         MB|         An Giang|            Ba Vì|       An Sơn|             DN|            Huyện xã|      LM|               0.1|             16500|     road|                   0|                 1|                  0|\n",
      "|    max|          1999974743|  S997756|     Hưng Yên|Thành phố Hưng Yên|   Xã Đức Hợp|         MB|        Đồng Tháp|          Ứng Hòa|Đức Ninh Đông|         NTB&TN|Nội thành & Ngoại...|      NT|             102.2|            424000|     road|                   1|                70|                  1|\n",
      "+-------+--------------------+---------+-------------+------------------+-------------+-----------+-----------------+-----------------+-------------+---------------+--------------------+--------+------------------+------------------+---------+--------------------+------------------+-------------------+\n",
      "\n"
     ]
    }
   ],
   "source": [
    "df_pyspark_p1.describe().show()"
   ]
  },
  {
   "cell_type": "code",
   "execution_count": 38,
   "metadata": {},
   "outputs": [],
   "source": [
    "# Column addition \n",
    "df_pyspark_p1 = df_pyspark_p1.withColumn('pkg_order_plus_2', df_pyspark_p1['pkg_order']+2) # Add column by specifying name of new column & how it should be added"
   ]
  },
  {
   "cell_type": "code",
   "execution_count": 39,
   "metadata": {},
   "outputs": [],
   "source": [
    "# Drop column\n",
    "df_pyspark_p1 = df_pyspark_p1.drop('pkg_order_plus_2') # Use drop func to drop a column"
   ]
  },
  {
   "cell_type": "code",
   "execution_count": 40,
   "metadata": {},
   "outputs": [
    {
     "name": "stdout",
     "output_type": "stream",
     "text": [
      "+-------------+---------+-------------+------------------+--------------+-----------+-----------------+-------------------+-----------------+---------------+--------------------+--------+------+----------+-------------------+---------+-------------------+--------------+-------+------------------+-------------------+-------------------+-------------------+\n",
      "|pkg_order_new|shop_code|pick_province|     pick_district|     pick_ward|pick_region|customer_province|  customer_district|    customer_ward|customer_region|             khu_vuc|pkg_type|weight|ship_money|        pkg_created|transport|         nhap_nguon|is_bbs_package|row_num|lien_mien_gia_thap|    tgian_lay_tcong|tgian_xuat_giao_dau|   tgian_giao_tcong|\n",
      "+-------------+---------+-------------+------------------+--------------+-----------+-----------------+-------------------+-----------------+---------------+--------------------+--------+------+----------+-------------------+---------+-------------------+--------------+-------+------------------+-------------------+-------------------+-------------------+\n",
      "|   1876698825|S12373055|     Hưng Yên|   Huyện Văn Giang| Xã Phụng Công|         MB|           Hà Nội|       Quận Từ Liêm|  phường Phú Diễn|             HN|Nội thành & Ngoại...|      NM|   0.2|     30000|2024-05-31 00:00:06|     road|2024-05-31 10:33:34|             0|      1|                 0|2024-05-31 09:49:53|2024-05-31 16:03:13|2024-05-31 16:10:11|\n",
      "|   1758549146|S13420655|     Hưng Yên|      Huyện Yên Mỹ|  Xã Minh Châu|         MB|        Thái Bình|   Huyện Kiến Xương|   Xã Quang Trung|             MB|            Huyện xã|      NM|   3.0|     21000|2024-05-31 00:00:42|     road|2024-05-31 17:08:26|             0|      2|                 0|2024-05-31 14:24:50|2024-06-01 07:31:31|2024-06-01 09:35:51|\n",
      "|   1119909915|S13420655|     Hưng Yên|      Huyện Yên Mỹ|  Xã Minh Châu|         MB|         Lâm Đồng|          Đức Trọng|    Xã Hiệp Thạnh|         NTB&TN|            Huyện xã|      LM|   3.0|     21000|2024-05-31 00:01:41|     road|2024-05-31 17:08:26|             0|      3|                 1|2024-05-31 14:24:50|2024-06-03 08:25:02|2024-06-03 13:13:39|\n",
      "|   1095164868|S19610666|     Hưng Yên|Thành phố Hưng Yên|  Xã Phú Cường|         MB|         Hưng Yên|       Huyện Phù Cừ|Thị trấn Trần Cao|             MB|            Huyện xã|      NT|   0.1|     30000|2024-05-31 00:02:35|     road|2024-05-31 17:31:23|             0|      4|                 0|2024-05-31 16:41:23|2024-06-01 07:30:32|2024-06-01 10:12:23|\n",
      "|   1785262558|S13420655|     Hưng Yên|      Huyện Yên Mỹ|  Xã Minh Châu|         MB|           Hà Nội|           Đông Anh|       Xã Võng La|             HN|            Huyện xã|      NM|   3.0|     21000|2024-05-31 00:02:37|     road|2024-05-31 17:08:26|             0|      5|                 0|2024-05-31 14:23:28|2024-06-01 14:24:42|2024-06-03 17:18:17|\n",
      "|   1716286600|S13420655|     Hưng Yên|      Huyện Yên Mỹ|  Xã Minh Châu|         MB|          Phú Thọ|      Huyện Cẩm Khê|      Xã Minh Tân|             MB|            Huyện xã|      NM|   3.0|     21000|2024-05-31 00:03:42|     road|2024-05-31 17:08:26|             0|      6|                 0|2024-05-31 14:24:50|2024-06-01 07:57:10|2024-06-01 10:40:14|\n",
      "|   1810224482|S13420655|     Hưng Yên|      Huyện Yên Mỹ|  Xã Minh Châu|         MB|   TP Hồ Chí Minh|        Quận Gò Vấp|        Phường 10|            HCM|Nội thành & Ngoại...|      LM|   3.0|     21000|2024-05-31 00:04:31|     road|2024-05-31 17:08:26|             0|      7|                 1|2024-05-31 14:23:28|2024-06-02 13:37:40|2024-06-02 14:33:47|\n",
      "|   1419621264|S13420655|     Hưng Yên|      Huyện Yên Mỹ|  Xã Minh Châu|         MB|          Gia Lai|   Thành phố PleiKu|  Phường Phù Đổng|         NTB&TN|Nội thành & Ngoại...|      LM|   3.0|     21000|2024-05-31 00:05:26|     road|2024-05-31 17:08:26|             0|      8|                 0|2024-05-31 14:24:50|2024-06-02 14:12:54|2024-06-03 11:20:35|\n",
      "|   1058671335|S13420655|     Hưng Yên|      Huyện Yên Mỹ|  Xã Minh Châu|         MB|          Gia Lai|   Thành phố PleiKu|  Phường Phù Đổng|         NTB&TN|Nội thành & Ngoại...|      LM|   3.0|     21000|2024-05-31 00:06:11|     road|2024-05-31 17:08:26|             0|      9|                 0|2024-05-31 14:23:28|2024-06-02 14:12:54|2024-06-03 11:20:35|\n",
      "|   1610699756|S13420655|     Hưng Yên|      Huyện Yên Mỹ|  Xã Minh Châu|         MB|         Hòa Bình|       Huyện Đà Bắc|       Xã Cao Sơn|             MB|            Huyện xã|      NM|   3.0|     21000|2024-05-31 00:07:24|     road|2024-05-31 17:08:26|             0|     10|                 0|2024-05-31 14:24:50|2024-06-03 08:04:54|2024-06-03 13:57:54|\n",
      "|   1440357605|S13420655|     Hưng Yên|      Huyện Yên Mỹ|  Xã Minh Châu|         MB|        Vĩnh Phúc|   Huyện Bình Xuyên|      Xã Trung Mỹ|             MB|            Huyện xã|      NM|   3.0|     21000|2024-05-31 00:08:16|     road|2024-05-31 17:08:26|             0|     11|                 0|2024-05-31 14:24:50|2024-06-01 07:32:50|2024-06-01 11:52:17|\n",
      "|   1992637475|S20083464|     Hưng Yên|     Huyện Tiên Lữ|Xã Thiện Phiến|         MB|        Thái Bình|      Huyện Hưng Hà| Thị trấn Hưng Hà|             MB|            Huyện xã|      NM|   1.0|     26000|2024-05-31 00:09:00|     road|2024-05-31 17:46:06|             0|     12|                 0|2024-05-31 17:11:56|2024-06-01 07:38:09|2024-06-01 10:45:12|\n",
      "|   1016593561|S13420655|     Hưng Yên|      Huyện Yên Mỹ|  Xã Minh Châu|         MB|          Lào Cai|       Thị xã Sa Pa|        Xã Bản Hồ|             MB|            Huyện xã|      NM|   3.0|     21000|2024-05-31 00:10:14|     road|2024-05-31 17:08:26|             0|     13|                 0|2024-05-31 14:24:50|2024-06-01 08:05:26|2024-06-01 15:02:56|\n",
      "|   1430114593|S13420655|     Hưng Yên|      Huyện Yên Mỹ|  Xã Minh Châu|         MB|          Hà Tĩnh|   Thị xã Hồng Lĩnh|  Phường Nam Hồng|             MB|Nội thành & Ngoại...|      NM|   5.0|     25000|2024-05-31 00:11:47|     road|2024-05-31 13:44:40|             0|     14|                 0|2024-05-31 13:44:14|2024-06-01 07:38:27|2024-06-01 09:04:08|\n",
      "|   1369581451|S19610666|     Hưng Yên|Thành phố Hưng Yên|  Xã Phú Cường|         MB|        Thái Bình|Thành phố Thái Bình|       Xã Vũ Đông|             MB|Nội thành & Ngoại...|      NM|   0.1|     30000|2024-05-31 00:11:58|     road|2024-05-31 17:31:10|             0|     15|                 0|2024-05-31 16:41:23|2024-06-01 07:49:11|2024-06-01 12:08:00|\n",
      "|   1542094532|S13420655|     Hưng Yên|      Huyện Yên Mỹ|  Xã Minh Châu|         MB|         Nam Định|      Huyện Hải Hậu|      Xã Hải Hưng|             MB|            Huyện xã|      NM|   3.0|     21000|2024-05-31 00:12:38|     road|2024-05-31 17:08:26|             0|     16|                 0|2024-05-31 14:23:28|2024-06-01 08:11:07|2024-06-01 15:05:23|\n",
      "|   1227920607|S20083464|     Hưng Yên|     Huyện Tiên Lữ|Xã Thiện Phiến|         MB|         Bắc Ninh|      Huyện Tiên Du|      Xã Hiên Vân|             MB|Nội thành & Ngoại...|      NM|  10.0|     52000|2024-05-31 00:13:13|     road|2024-05-31 17:55:03|             0|     17|                 0|2024-05-31 17:54:53|2024-06-01 15:17:20|2024-06-01 16:03:24|\n",
      "|   1527371880|S13420655|     Hưng Yên|      Huyện Yên Mỹ|  Xã Minh Châu|         MB|         Lạng Sơn|     Huyện Lộc Bình|    Xã Thống Nhất|             MB|            Huyện xã|      NM|   4.5|     25000|2024-05-31 00:13:56|     road|2024-05-31 13:44:40|             0|     18|                 0|2024-05-31 13:44:14|2024-06-01 07:56:11|2024-06-01 10:55:04|\n",
      "|   1067142678|S20083464|     Hưng Yên|     Huyện Tiên Lữ|Xã Thiện Phiến|         MB|         Bắc Ninh|      Huyện Tiên Du|      Xã Hiên Vân|             MB|Nội thành & Ngoại...|      NM|  10.0|     52000|2024-05-31 00:14:24|     road|2024-05-31 17:55:03|             0|     19|                 0|2024-05-31 17:54:53|2024-06-01 15:17:20|2024-06-01 16:03:24|\n",
      "|   1326700818|S13420655|     Hưng Yên|      Huyện Yên Mỹ|  Xã Minh Châu|         MB|          Lào Cai|  Thành phố Lào Cai|   Phường Kim Tân|             MB|Nội thành & Ngoại...|      NM|   0.7|     21000|2024-05-31 00:14:57|     road|2024-05-31 18:40:56|             0|     20|                 0|2024-05-31 18:18:25|2024-06-01 08:11:14|2024-06-01 09:42:31|\n",
      "+-------------+---------+-------------+------------------+--------------+-----------+-----------------+-------------------+-----------------+---------------+--------------------+--------+------+----------+-------------------+---------+-------------------+--------------+-------+------------------+-------------------+-------------------+-------------------+\n",
      "only showing top 20 rows\n",
      "\n"
     ]
    }
   ],
   "source": [
    "# Rename column\n",
    "df_pyspark_p1.withColumnRenamed('pkg_order', 'pkg_order_new').show()"
   ]
  },
  {
   "cell_type": "markdown",
   "metadata": {},
   "source": [
    "Handling missing values"
   ]
  },
  {
   "cell_type": "code",
   "execution_count": 41,
   "metadata": {},
   "outputs": [
    {
     "name": "stdout",
     "output_type": "stream",
     "text": [
      "+----------+---------+-------------+------------------+-------------+-----------+-----------------+-----------------+-----------------+---------------+--------------------+--------+------+----------+-------------------+---------+-------------------+--------------+-------+------------------+-------------------+-------------------+-------------------+\n",
      "| pkg_order|shop_code|pick_province|     pick_district|    pick_ward|pick_region|customer_province|customer_district|    customer_ward|customer_region|             khu_vuc|pkg_type|weight|ship_money|        pkg_created|transport|         nhap_nguon|is_bbs_package|row_num|lien_mien_gia_thap|    tgian_lay_tcong|tgian_xuat_giao_dau|   tgian_giao_tcong|\n",
      "+----------+---------+-------------+------------------+-------------+-----------+-----------------+-----------------+-----------------+---------------+--------------------+--------+------+----------+-------------------+---------+-------------------+--------------+-------+------------------+-------------------+-------------------+-------------------+\n",
      "|1876698825|S12373055|     Hưng Yên|   Huyện Văn Giang|Xã Phụng Công|         MB|           Hà Nội|     Quận Từ Liêm|  phường Phú Diễn|             HN|Nội thành & Ngoại...|      NM|   0.2|     30000|2024-05-31 00:00:06|     road|2024-05-31 10:33:34|             0|      1|                 0|2024-05-31 09:49:53|2024-05-31 16:03:13|2024-05-31 16:10:11|\n",
      "|1758549146|S13420655|     Hưng Yên|      Huyện Yên Mỹ| Xã Minh Châu|         MB|        Thái Bình| Huyện Kiến Xương|   Xã Quang Trung|             MB|            Huyện xã|      NM|   3.0|     21000|2024-05-31 00:00:42|     road|2024-05-31 17:08:26|             0|      2|                 0|2024-05-31 14:24:50|2024-06-01 07:31:31|2024-06-01 09:35:51|\n",
      "|1119909915|S13420655|     Hưng Yên|      Huyện Yên Mỹ| Xã Minh Châu|         MB|         Lâm Đồng|        Đức Trọng|    Xã Hiệp Thạnh|         NTB&TN|            Huyện xã|      LM|   3.0|     21000|2024-05-31 00:01:41|     road|2024-05-31 17:08:26|             0|      3|                 1|2024-05-31 14:24:50|2024-06-03 08:25:02|2024-06-03 13:13:39|\n",
      "|1095164868|S19610666|     Hưng Yên|Thành phố Hưng Yên| Xã Phú Cường|         MB|         Hưng Yên|     Huyện Phù Cừ|Thị trấn Trần Cao|             MB|            Huyện xã|      NT|   0.1|     30000|2024-05-31 00:02:35|     road|2024-05-31 17:31:23|             0|      4|                 0|2024-05-31 16:41:23|2024-06-01 07:30:32|2024-06-01 10:12:23|\n",
      "|1785262558|S13420655|     Hưng Yên|      Huyện Yên Mỹ| Xã Minh Châu|         MB|           Hà Nội|         Đông Anh|       Xã Võng La|             HN|            Huyện xã|      NM|   3.0|     21000|2024-05-31 00:02:37|     road|2024-05-31 17:08:26|             0|      5|                 0|2024-05-31 14:23:28|2024-06-01 14:24:42|2024-06-03 17:18:17|\n",
      "+----------+---------+-------------+------------------+-------------+-----------+-----------------+-----------------+-----------------+---------------+--------------------+--------+------+----------+-------------------+---------+-------------------+--------------+-------+------------------+-------------------+-------------------+-------------------+\n",
      "only showing top 5 rows\n",
      "\n"
     ]
    }
   ],
   "source": [
    "df_pyspark_p1.show(5)"
   ]
  },
  {
   "cell_type": "code",
   "execution_count": 42,
   "metadata": {},
   "outputs": [
    {
     "data": {
      "text/plain": [
       "DataFrame[pkg_order: int, shop_code: string, pick_district: string, pick_ward: string, pick_region: string, customer_province: string, customer_district: string, customer_ward: string, customer_region: string, khu_vuc: string, pkg_type: string, weight: double, ship_money: int, pkg_created: timestamp, transport: string, nhap_nguon: timestamp, is_bbs_package: int, row_num: int, lien_mien_gia_thap: int, tgian_lay_tcong: timestamp, tgian_xuat_giao_dau: timestamp, tgian_giao_tcong: timestamp]"
      ]
     },
     "execution_count": 42,
     "metadata": {},
     "output_type": "execute_result"
    }
   ],
   "source": [
    "# Drop columns\n",
    "df_pyspark_p1.drop('pick_province')"
   ]
  },
  {
   "cell_type": "code",
   "execution_count": 43,
   "metadata": {},
   "outputs": [
    {
     "name": "stdout",
     "output_type": "stream",
     "text": [
      "+----------+---------+-------------+------------------+--------------+-----------+-----------------+-------------------+-----------------+---------------+--------------------+--------+------+----------+-------------------+---------+-------------------+--------------+-------+------------------+-------------------+-------------------+-------------------+\n",
      "| pkg_order|shop_code|pick_province|     pick_district|     pick_ward|pick_region|customer_province|  customer_district|    customer_ward|customer_region|             khu_vuc|pkg_type|weight|ship_money|        pkg_created|transport|         nhap_nguon|is_bbs_package|row_num|lien_mien_gia_thap|    tgian_lay_tcong|tgian_xuat_giao_dau|   tgian_giao_tcong|\n",
      "+----------+---------+-------------+------------------+--------------+-----------+-----------------+-------------------+-----------------+---------------+--------------------+--------+------+----------+-------------------+---------+-------------------+--------------+-------+------------------+-------------------+-------------------+-------------------+\n",
      "|1876698825|S12373055|     Hưng Yên|   Huyện Văn Giang| Xã Phụng Công|         MB|           Hà Nội|       Quận Từ Liêm|  phường Phú Diễn|             HN|Nội thành & Ngoại...|      NM|   0.2|     30000|2024-05-31 00:00:06|     road|2024-05-31 10:33:34|             0|      1|                 0|2024-05-31 09:49:53|2024-05-31 16:03:13|2024-05-31 16:10:11|\n",
      "|1758549146|S13420655|     Hưng Yên|      Huyện Yên Mỹ|  Xã Minh Châu|         MB|        Thái Bình|   Huyện Kiến Xương|   Xã Quang Trung|             MB|            Huyện xã|      NM|   3.0|     21000|2024-05-31 00:00:42|     road|2024-05-31 17:08:26|             0|      2|                 0|2024-05-31 14:24:50|2024-06-01 07:31:31|2024-06-01 09:35:51|\n",
      "|1119909915|S13420655|     Hưng Yên|      Huyện Yên Mỹ|  Xã Minh Châu|         MB|         Lâm Đồng|          Đức Trọng|    Xã Hiệp Thạnh|         NTB&TN|            Huyện xã|      LM|   3.0|     21000|2024-05-31 00:01:41|     road|2024-05-31 17:08:26|             0|      3|                 1|2024-05-31 14:24:50|2024-06-03 08:25:02|2024-06-03 13:13:39|\n",
      "|1095164868|S19610666|     Hưng Yên|Thành phố Hưng Yên|  Xã Phú Cường|         MB|         Hưng Yên|       Huyện Phù Cừ|Thị trấn Trần Cao|             MB|            Huyện xã|      NT|   0.1|     30000|2024-05-31 00:02:35|     road|2024-05-31 17:31:23|             0|      4|                 0|2024-05-31 16:41:23|2024-06-01 07:30:32|2024-06-01 10:12:23|\n",
      "|1785262558|S13420655|     Hưng Yên|      Huyện Yên Mỹ|  Xã Minh Châu|         MB|           Hà Nội|           Đông Anh|       Xã Võng La|             HN|            Huyện xã|      NM|   3.0|     21000|2024-05-31 00:02:37|     road|2024-05-31 17:08:26|             0|      5|                 0|2024-05-31 14:23:28|2024-06-01 14:24:42|2024-06-03 17:18:17|\n",
      "|1716286600|S13420655|     Hưng Yên|      Huyện Yên Mỹ|  Xã Minh Châu|         MB|          Phú Thọ|      Huyện Cẩm Khê|      Xã Minh Tân|             MB|            Huyện xã|      NM|   3.0|     21000|2024-05-31 00:03:42|     road|2024-05-31 17:08:26|             0|      6|                 0|2024-05-31 14:24:50|2024-06-01 07:57:10|2024-06-01 10:40:14|\n",
      "|1810224482|S13420655|     Hưng Yên|      Huyện Yên Mỹ|  Xã Minh Châu|         MB|   TP Hồ Chí Minh|        Quận Gò Vấp|        Phường 10|            HCM|Nội thành & Ngoại...|      LM|   3.0|     21000|2024-05-31 00:04:31|     road|2024-05-31 17:08:26|             0|      7|                 1|2024-05-31 14:23:28|2024-06-02 13:37:40|2024-06-02 14:33:47|\n",
      "|1419621264|S13420655|     Hưng Yên|      Huyện Yên Mỹ|  Xã Minh Châu|         MB|          Gia Lai|   Thành phố PleiKu|  Phường Phù Đổng|         NTB&TN|Nội thành & Ngoại...|      LM|   3.0|     21000|2024-05-31 00:05:26|     road|2024-05-31 17:08:26|             0|      8|                 0|2024-05-31 14:24:50|2024-06-02 14:12:54|2024-06-03 11:20:35|\n",
      "|1058671335|S13420655|     Hưng Yên|      Huyện Yên Mỹ|  Xã Minh Châu|         MB|          Gia Lai|   Thành phố PleiKu|  Phường Phù Đổng|         NTB&TN|Nội thành & Ngoại...|      LM|   3.0|     21000|2024-05-31 00:06:11|     road|2024-05-31 17:08:26|             0|      9|                 0|2024-05-31 14:23:28|2024-06-02 14:12:54|2024-06-03 11:20:35|\n",
      "|1610699756|S13420655|     Hưng Yên|      Huyện Yên Mỹ|  Xã Minh Châu|         MB|         Hòa Bình|       Huyện Đà Bắc|       Xã Cao Sơn|             MB|            Huyện xã|      NM|   3.0|     21000|2024-05-31 00:07:24|     road|2024-05-31 17:08:26|             0|     10|                 0|2024-05-31 14:24:50|2024-06-03 08:04:54|2024-06-03 13:57:54|\n",
      "|1440357605|S13420655|     Hưng Yên|      Huyện Yên Mỹ|  Xã Minh Châu|         MB|        Vĩnh Phúc|   Huyện Bình Xuyên|      Xã Trung Mỹ|             MB|            Huyện xã|      NM|   3.0|     21000|2024-05-31 00:08:16|     road|2024-05-31 17:08:26|             0|     11|                 0|2024-05-31 14:24:50|2024-06-01 07:32:50|2024-06-01 11:52:17|\n",
      "|1992637475|S20083464|     Hưng Yên|     Huyện Tiên Lữ|Xã Thiện Phiến|         MB|        Thái Bình|      Huyện Hưng Hà| Thị trấn Hưng Hà|             MB|            Huyện xã|      NM|   1.0|     26000|2024-05-31 00:09:00|     road|2024-05-31 17:46:06|             0|     12|                 0|2024-05-31 17:11:56|2024-06-01 07:38:09|2024-06-01 10:45:12|\n",
      "|1016593561|S13420655|     Hưng Yên|      Huyện Yên Mỹ|  Xã Minh Châu|         MB|          Lào Cai|       Thị xã Sa Pa|        Xã Bản Hồ|             MB|            Huyện xã|      NM|   3.0|     21000|2024-05-31 00:10:14|     road|2024-05-31 17:08:26|             0|     13|                 0|2024-05-31 14:24:50|2024-06-01 08:05:26|2024-06-01 15:02:56|\n",
      "|1430114593|S13420655|     Hưng Yên|      Huyện Yên Mỹ|  Xã Minh Châu|         MB|          Hà Tĩnh|   Thị xã Hồng Lĩnh|  Phường Nam Hồng|             MB|Nội thành & Ngoại...|      NM|   5.0|     25000|2024-05-31 00:11:47|     road|2024-05-31 13:44:40|             0|     14|                 0|2024-05-31 13:44:14|2024-06-01 07:38:27|2024-06-01 09:04:08|\n",
      "|1369581451|S19610666|     Hưng Yên|Thành phố Hưng Yên|  Xã Phú Cường|         MB|        Thái Bình|Thành phố Thái Bình|       Xã Vũ Đông|             MB|Nội thành & Ngoại...|      NM|   0.1|     30000|2024-05-31 00:11:58|     road|2024-05-31 17:31:10|             0|     15|                 0|2024-05-31 16:41:23|2024-06-01 07:49:11|2024-06-01 12:08:00|\n",
      "|1542094532|S13420655|     Hưng Yên|      Huyện Yên Mỹ|  Xã Minh Châu|         MB|         Nam Định|      Huyện Hải Hậu|      Xã Hải Hưng|             MB|            Huyện xã|      NM|   3.0|     21000|2024-05-31 00:12:38|     road|2024-05-31 17:08:26|             0|     16|                 0|2024-05-31 14:23:28|2024-06-01 08:11:07|2024-06-01 15:05:23|\n",
      "|1227920607|S20083464|     Hưng Yên|     Huyện Tiên Lữ|Xã Thiện Phiến|         MB|         Bắc Ninh|      Huyện Tiên Du|      Xã Hiên Vân|             MB|Nội thành & Ngoại...|      NM|  10.0|     52000|2024-05-31 00:13:13|     road|2024-05-31 17:55:03|             0|     17|                 0|2024-05-31 17:54:53|2024-06-01 15:17:20|2024-06-01 16:03:24|\n",
      "|1527371880|S13420655|     Hưng Yên|      Huyện Yên Mỹ|  Xã Minh Châu|         MB|         Lạng Sơn|     Huyện Lộc Bình|    Xã Thống Nhất|             MB|            Huyện xã|      NM|   4.5|     25000|2024-05-31 00:13:56|     road|2024-05-31 13:44:40|             0|     18|                 0|2024-05-31 13:44:14|2024-06-01 07:56:11|2024-06-01 10:55:04|\n",
      "|1067142678|S20083464|     Hưng Yên|     Huyện Tiên Lữ|Xã Thiện Phiến|         MB|         Bắc Ninh|      Huyện Tiên Du|      Xã Hiên Vân|             MB|Nội thành & Ngoại...|      NM|  10.0|     52000|2024-05-31 00:14:24|     road|2024-05-31 17:55:03|             0|     19|                 0|2024-05-31 17:54:53|2024-06-01 15:17:20|2024-06-01 16:03:24|\n",
      "|1326700818|S13420655|     Hưng Yên|      Huyện Yên Mỹ|  Xã Minh Châu|         MB|          Lào Cai|  Thành phố Lào Cai|   Phường Kim Tân|             MB|Nội thành & Ngoại...|      NM|   0.7|     21000|2024-05-31 00:14:57|     road|2024-05-31 18:40:56|             0|     20|                 0|2024-05-31 18:18:25|2024-06-01 08:11:14|2024-06-01 09:42:31|\n",
      "+----------+---------+-------------+------------------+--------------+-----------+-----------------+-------------------+-----------------+---------------+--------------------+--------+------+----------+-------------------+---------+-------------------+--------------+-------+------------------+-------------------+-------------------+-------------------+\n",
      "only showing top 20 rows\n",
      "\n"
     ]
    },
    {
     "data": {
      "text/plain": [
       "DataFrame[pkg_order: int, shop_code: string, pick_province: string, pick_district: string, pick_ward: string, pick_region: string, customer_province: string, customer_district: string, customer_ward: string, customer_region: string, khu_vuc: string, pkg_type: string, weight: double, ship_money: int, pkg_created: timestamp, transport: string, nhap_nguon: timestamp, is_bbs_package: int, row_num: int, lien_mien_gia_thap: int, tgian_lay_tcong: timestamp, tgian_xuat_giao_dau: timestamp, tgian_giao_tcong: timestamp]"
      ]
     },
     "execution_count": 43,
     "metadata": {},
     "output_type": "execute_result"
    }
   ],
   "source": [
    "# Drop null values\n",
    "df_pyspark_p1.na.drop().show() # Every rows with NULL values will be removed - wherever NULL is present\n",
    "# 3 args: How, thresh, subset\n",
    "## How: Any -> Whichever row has a NULL, All -> All values of row is NULL\n",
    "df_pyspark_p1.na.drop(how='all') # Default is ANY\n",
    "## Threshold: At least N non-null values present in the row (Thresh=2 -> Row with <2 non-null will be removed)\n",
    "df_pyspark_p1.na.drop(how='any', thresh=2) # Default is ANY\n",
    "## Subset: Columns to select ['col_list']\n",
    "df_pyspark_p1.na.drop(how='any',subset='tgian_lay_tcong') "
   ]
  },
  {
   "cell_type": "code",
   "execution_count": 44,
   "metadata": {},
   "outputs": [
    {
     "name": "stdout",
     "output_type": "stream",
     "text": [
      "+-------------------+----------+\n",
      "|    tgian_lay_tcong| pkg_order|\n",
      "+-------------------+----------+\n",
      "|2024-05-31 09:49:53|1876698825|\n",
      "|2024-05-31 14:24:50|1758549146|\n",
      "|2024-05-31 14:24:50|1119909915|\n",
      "|2024-05-31 16:41:23|1095164868|\n",
      "|2024-05-31 14:23:28|1785262558|\n",
      "|2024-05-31 14:24:50|1716286600|\n",
      "|2024-05-31 14:23:28|1810224482|\n",
      "|2024-05-31 14:24:50|1419621264|\n",
      "|2024-05-31 14:23:28|1058671335|\n",
      "|2024-05-31 14:24:50|1610699756|\n",
      "|2024-05-31 14:24:50|1440357605|\n",
      "|2024-05-31 17:11:56|1992637475|\n",
      "|2024-05-31 14:24:50|1016593561|\n",
      "|2024-05-31 13:44:14|1430114593|\n",
      "|2024-05-31 16:41:23|1369581451|\n",
      "|2024-05-31 14:23:28|1542094532|\n",
      "|2024-05-31 17:54:53|1227920607|\n",
      "|2024-05-31 13:44:14|1527371880|\n",
      "|2024-05-31 17:54:53|1067142678|\n",
      "|2024-05-31 18:18:25|1326700818|\n",
      "+-------------------+----------+\n",
      "only showing top 20 rows\n",
      "\n"
     ]
    }
   ],
   "source": [
    "# Filling missing values\n",
    "# df_pyspark_p1.na.fill(value, subset=)\n",
    "df_pyspark_p1.na.fill('Missing', subset=['tgian_lay_tcong', 'pkg_order']).select(['tgian_lay_tcong', 'pkg_order']).show()"
   ]
  },
  {
   "cell_type": "code",
   "execution_count": 45,
   "metadata": {},
   "outputs": [
    {
     "ename": "SyntaxError",
     "evalue": "invalid syntax (3503007246.py, line 4)",
     "output_type": "error",
     "traceback": [
      "\u001b[1;36m  Cell \u001b[1;32mIn [45], line 4\u001b[1;36m\u001b[0m\n\u001b[1;33m    impt = Imputer(inputCols=, outputCols=).setStrategy(\"mean\") # also median\u001b[0m\n\u001b[1;37m                             ^\u001b[0m\n\u001b[1;31mSyntaxError\u001b[0m\u001b[1;31m:\u001b[0m invalid syntax\n"
     ]
    }
   ],
   "source": [
    "# Filling missing values (numerical): Mean / Median\n",
    "from pyspark.ml.feature import Imputer\n",
    "\n",
    "impt = Imputer(inputCols=, outputCols=).setStrategy(\"mean\") # also median \n",
    "# Add imputation\n",
    "impt.fit(df_pyspark_p1).transform(df_pyspark_p1).show() \n",
    "# Fit to perform calculations first and then applied to the df at hand"
   ]
  },
  {
   "cell_type": "code",
   "execution_count": 46,
   "metadata": {},
   "outputs": [
    {
     "name": "stdout",
     "output_type": "stream",
     "text": [
      "+--------+----------+\n",
      "|pkg_type| pkg_order|\n",
      "+--------+----------+\n",
      "|      NM|1876698825|\n",
      "|      NM|1758549146|\n",
      "|      NM|1785262558|\n",
      "|      NM|1716286600|\n",
      "|      NM|1610699756|\n",
      "|      NM|1440357605|\n",
      "|      NM|1992637475|\n",
      "|      NM|1016593561|\n",
      "|      NM|1430114593|\n",
      "|      NM|1369581451|\n",
      "|      NM|1542094532|\n",
      "|      NM|1227920607|\n",
      "|      NM|1527371880|\n",
      "|      NM|1067142678|\n",
      "|      NM|1326700818|\n",
      "|      NM|1414576670|\n",
      "|      NM|1109532588|\n",
      "|      NM|1444510646|\n",
      "|      NM|1715608717|\n",
      "|      NM|1691600066|\n",
      "+--------+----------+\n",
      "only showing top 20 rows\n",
      "\n"
     ]
    }
   ],
   "source": [
    "# Filter operation (WHERE in SQL)\n",
    "# Skipping SparkSession creation step\n",
    "df_pyspark_p1.filter(\"pkg_type='NM'\").select(['pkg_type', \n",
    "                                              'pkg_order']).show()"
   ]
  },
  {
   "cell_type": "code",
   "execution_count": 48,
   "metadata": {},
   "outputs": [
    {
     "name": "stdout",
     "output_type": "stream",
     "text": [
      "+--------+----------+\n",
      "|pkg_type| pkg_order|\n",
      "+--------+----------+\n",
      "|      LM|1119909915|\n",
      "|      LM|1810224482|\n",
      "|      LM|1419621264|\n",
      "|      LM|1058671335|\n",
      "|      LM|1836044895|\n",
      "|      LM|1955112600|\n",
      "|      LM|1080461327|\n",
      "|      LM|1057772125|\n",
      "|      LM|1772530589|\n",
      "|      LM|1014703708|\n",
      "|      LM|1508993824|\n",
      "|      LM|1938153737|\n",
      "|      LM|1550655721|\n",
      "|      LM|1249331485|\n",
      "|      LM|1025106142|\n",
      "|      LM|1173020998|\n",
      "|      LM|1971544466|\n",
      "|      LM|1436696808|\n",
      "|      LM|1078953170|\n",
      "|      LM|1227107419|\n",
      "+--------+----------+\n",
      "only showing top 20 rows\n",
      "\n"
     ]
    }
   ],
   "source": [
    "df_pyspark_p1.filter(df_pyspark_p1['pkg_type'] == 'LM').select(['pkg_type', \n",
    "                                              'pkg_order']).show() # Different way to show filter"
   ]
  },
  {
   "cell_type": "code",
   "execution_count": 50,
   "metadata": {},
   "outputs": [
    {
     "name": "stdout",
     "output_type": "stream",
     "text": [
      "+--------+----------+\n",
      "|pkg_type| pkg_order|\n",
      "+--------+----------+\n",
      "|      LM|1119909915|\n",
      "|      LM|1810224482|\n",
      "|      LM|1419621264|\n",
      "|      LM|1058671335|\n",
      "|      LM|1836044895|\n",
      "|      LM|1955112600|\n",
      "|      LM|1080461327|\n",
      "|      LM|1057772125|\n",
      "|      LM|1772530589|\n",
      "|      LM|1014703708|\n",
      "|      LM|1508993824|\n",
      "|      LM|1938153737|\n",
      "|      LM|1550655721|\n",
      "|      LM|1249331485|\n",
      "|      LM|1025106142|\n",
      "|      LM|1173020998|\n",
      "|      LM|1971544466|\n",
      "|      LM|1436696808|\n",
      "|      LM|1078953170|\n",
      "|      LM|1227107419|\n",
      "+--------+----------+\n",
      "only showing top 20 rows\n",
      "\n"
     ]
    }
   ],
   "source": [
    "df_pyspark_p1.filter((df_pyspark_p1['pkg_type'] == 'LM') | (df_pyspark_p1['pkg_order'] == '1057772125')).select(['pkg_type', \n",
    "                                              'pkg_order']).show() # Multiple filters with '&' (AND) and '|' (OR)"
   ]
  },
  {
   "cell_type": "code",
   "execution_count": 51,
   "metadata": {},
   "outputs": [
    {
     "name": "stdout",
     "output_type": "stream",
     "text": [
      "+--------+----------+\n",
      "|pkg_type| pkg_order|\n",
      "+--------+----------+\n",
      "|      NM|1876698825|\n",
      "|      NM|1758549146|\n",
      "|      NT|1095164868|\n",
      "|      NM|1785262558|\n",
      "|      NM|1716286600|\n",
      "|      NM|1610699756|\n",
      "|      NM|1440357605|\n",
      "|      NM|1992637475|\n",
      "|      NM|1016593561|\n",
      "|      NM|1430114593|\n",
      "|      NM|1369581451|\n",
      "|      NM|1542094532|\n",
      "|      NM|1227920607|\n",
      "|      NM|1527371880|\n",
      "|      NM|1067142678|\n",
      "|      NM|1326700818|\n",
      "|      NM|1414576670|\n",
      "|      NM|1109532588|\n",
      "|      NM|1444510646|\n",
      "|      NM|1715608717|\n",
      "+--------+----------+\n",
      "only showing top 20 rows\n",
      "\n"
     ]
    }
   ],
   "source": [
    "df_pyspark_p1.filter(~(df_pyspark_p1['pkg_type'] == 'LM')).select(['pkg_type', \n",
    "                                              'pkg_order']).show() # NOT filter (~)"
   ]
  },
  {
   "cell_type": "markdown",
   "metadata": {},
   "source": [
    "## GroupBy & Aggregate functions - Tutorial 5"
   ]
  },
  {
   "cell_type": "code",
   "execution_count": 52,
   "metadata": {},
   "outputs": [],
   "source": [
    "# Still using df_pyspark_1\n",
    "from pyspark.sql import SparkSession\n",
    "spark = SparkSession.builder.appName('Agg').getOrCreate() # Review of how to create spark sessions"
   ]
  },
  {
   "cell_type": "code",
   "execution_count": 53,
   "metadata": {},
   "outputs": [
    {
     "data": {
      "text/html": [
       "\n",
       "            <div>\n",
       "                <p><b>SparkSession - in-memory</b></p>\n",
       "                \n",
       "        <div>\n",
       "            <p><b>SparkContext</b></p>\n",
       "\n",
       "            <p><a href=\"http://Khanh-Tung:4040\">Spark UI</a></p>\n",
       "\n",
       "            <dl>\n",
       "              <dt>Version</dt>\n",
       "                <dd><code>v3.4.0</code></dd>\n",
       "              <dt>Master</dt>\n",
       "                <dd><code>local[*]</code></dd>\n",
       "              <dt>AppName</dt>\n",
       "                <dd><code>Practice</code></dd>\n",
       "            </dl>\n",
       "        </div>\n",
       "        \n",
       "            </div>\n",
       "        "
      ],
      "text/plain": [
       "<pyspark.sql.session.SparkSession at 0x1beaeebf130>"
      ]
     },
     "execution_count": 53,
     "metadata": {},
     "output_type": "execute_result"
    }
   ],
   "source": [
    "spark"
   ]
  },
  {
   "cell_type": "code",
   "execution_count": 56,
   "metadata": {},
   "outputs": [
    {
     "name": "stdout",
     "output_type": "stream",
     "text": [
      "root\n",
      " |-- pkg_order: integer (nullable = true)\n",
      " |-- shop_code: string (nullable = true)\n",
      " |-- pick_province: string (nullable = true)\n",
      " |-- pick_district: string (nullable = true)\n",
      " |-- pick_ward: string (nullable = true)\n",
      " |-- pick_region: string (nullable = true)\n",
      " |-- customer_province: string (nullable = true)\n",
      " |-- customer_district: string (nullable = true)\n",
      " |-- customer_ward: string (nullable = true)\n",
      " |-- customer_region: string (nullable = true)\n",
      " |-- khu_vuc: string (nullable = true)\n",
      " |-- pkg_type: string (nullable = true)\n",
      " |-- weight: double (nullable = true)\n",
      " |-- ship_money: integer (nullable = true)\n",
      " |-- pkg_created: timestamp (nullable = true)\n",
      " |-- transport: string (nullable = true)\n",
      " |-- nhap_nguon: timestamp (nullable = true)\n",
      " |-- is_bbs_package: integer (nullable = true)\n",
      " |-- row_num: integer (nullable = true)\n",
      " |-- lien_mien_gia_thap: integer (nullable = true)\n",
      " |-- tgian_lay_tcong: timestamp (nullable = true)\n",
      " |-- tgian_xuat_giao_dau: timestamp (nullable = true)\n",
      " |-- tgian_giao_tcong: timestamp (nullable = true)\n",
      "\n"
     ]
    }
   ],
   "source": [
    "## Group by\n",
    "df_pyspark_p1.printSchema()"
   ]
  },
  {
   "cell_type": "code",
   "execution_count": 61,
   "metadata": {},
   "outputs": [
    {
     "name": "stdout",
     "output_type": "stream",
     "text": [
      "+-----------+--------------+-----------------+---------------+-------------------+------------+-----------------------+\n",
      "|pick_region|sum(pkg_order)|      sum(weight)|sum(ship_money)|sum(is_bbs_package)|sum(row_num)|sum(lien_mien_gia_thap)|\n",
      "+-----------+--------------+-----------------+---------------+-------------------+------------+-----------------------+\n",
      "|         MB| 9543117714238|12961.61000000011|      167084000|                 41|      226135|                   1633|\n",
      "+-----------+--------------+-----------------+---------------+-------------------+------------+-----------------------+\n",
      "\n"
     ]
    }
   ],
   "source": [
    "# GroupBy\n",
    "df_pyspark_p1.groupBy('pick_region').sum().show()"
   ]
  },
  {
   "cell_type": "code",
   "execution_count": 67,
   "metadata": {},
   "outputs": [
    {
     "name": "stdout",
     "output_type": "stream",
     "text": [
      "+---------------+--------------------+------------------+------------------+--------------------+------------------+-----------------------+\n",
      "|customer_region|      avg(pkg_order)|       avg(weight)|   avg(ship_money)| avg(is_bbs_package)|      avg(row_num)|avg(lien_mien_gia_thap)|\n",
      "+---------------+--------------------+------------------+------------------+--------------------+------------------+-----------------------+\n",
      "|             MN|1.5022853758565977E9| 2.079514721919295|26258.724100327152|0.008724100327153763|35.531079607415485|     0.3974918211559433|\n",
      "|             DN|1.4630642002891567E9| 2.147831325301205| 27030.12048192771|                 0.0| 33.87951807228916|                    0.0|\n",
      "|             MT|  1.49313008589899E9|2.3656565656565682| 26550.50505050505|0.013468013468013467| 35.43434343434343|                    0.0|\n",
      "|             HN|1.4719393465961537E9| 1.779733727810647|25876.479289940828|0.001479289940828...| 36.09763313609467|                    0.0|\n",
      "|             MB| 1.507631843898709E9|2.1230883813306853| 25836.14697120159|0.002979145978152...| 34.82869910625621|                    0.0|\n",
      "|         NTB&TN|1.5060558758181818E9|1.8595636363636354|26142.424242424244|0.004848484848484...| 35.93818181818182|     0.3187878787878788|\n",
      "|            HCM|1.4807094248361936E9|1.9559594383775358| 27617.00468018721|0.015600624024960999| 36.56630265210608|                    1.0|\n",
      "+---------------+--------------------+------------------+------------------+--------------------+------------------+-----------------------+\n",
      "\n",
      "+---------------+-----+\n",
      "|customer_region|count|\n",
      "+---------------+-----+\n",
      "|             MN| 1834|\n",
      "|             DN|   83|\n",
      "|             MT|  297|\n",
      "|             HN|  676|\n",
      "|             MB| 2014|\n",
      "|         NTB&TN|  825|\n",
      "|            HCM|  641|\n",
      "+---------------+-----+\n",
      "\n",
      "+---------------+--------------+-----------+---------------+-------------------+------------+-----------------------+\n",
      "|customer_region|max(pkg_order)|max(weight)|max(ship_money)|max(is_bbs_package)|max(row_num)|max(lien_mien_gia_thap)|\n",
      "+---------------+--------------+-----------+---------------+-------------------+------------+-----------------------+\n",
      "|             MN|    1999805704|       38.8|         235000|                  1|          70|                      1|\n",
      "|             DN|    1998447350|       12.8|          65000|                  0|          70|                      0|\n",
      "|             MT|    1988863740|       37.3|         152000|                  1|          70|                      0|\n",
      "|             HN|    1998003533|       50.0|         177500|                  1|          70|                      0|\n",
      "|             MB|    1999974743|      102.2|         424000|                  1|          70|                      0|\n",
      "|         NTB&TN|    1998877766|       45.0|         295000|                  1|          70|                      1|\n",
      "|            HCM|    1999199539|       50.0|         420000|                  1|          70|                      1|\n",
      "+---------------+--------------+-----------+---------------+-------------------+------------+-----------------------+\n",
      "\n"
     ]
    }
   ],
   "source": [
    "df_pyspark_p1.groupBy('customer_region').mean().show()\n",
    "df_pyspark_p1.groupBy('customer_region').count().show()\n",
    "df_pyspark_p1.groupBy('customer_region').max().show()"
   ]
  },
  {
   "cell_type": "code",
   "execution_count": 65,
   "metadata": {},
   "outputs": [
    {
     "name": "stdout",
     "output_type": "stream",
     "text": [
      "+----------------------+\n",
      "|count(customer_region)|\n",
      "+----------------------+\n",
      "|                  6370|\n",
      "+----------------------+\n",
      "\n"
     ]
    }
   ],
   "source": [
    "# Direct aggregate functions - Different use of GroupBy\n",
    "df_pyspark_p1.agg({'customer_region':'count'}).show()"
   ]
  },
  {
   "cell_type": "code",
   "execution_count": null,
   "metadata": {},
   "outputs": [],
   "source": [
    "# Spark is powerful with MLib\n",
    "# Note that the flow to conduct train test split may differ from normal ML"
   ]
  }
 ],
 "metadata": {
  "kernelspec": {
   "display_name": "Python 3",
   "language": "python",
   "name": "python3"
  },
  "language_info": {
   "codemirror_mode": {
    "name": "ipython",
    "version": 3
   },
   "file_extension": ".py",
   "mimetype": "text/x-python",
   "name": "python",
   "nbconvert_exporter": "python",
   "pygments_lexer": "ipython3",
   "version": "3.9.6"
  }
 },
 "nbformat": 4,
 "nbformat_minor": 2
}
