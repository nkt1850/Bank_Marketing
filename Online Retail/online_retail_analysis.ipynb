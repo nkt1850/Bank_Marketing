{
 "cells": [
  {
   "cell_type": "code",
   "execution_count": 1,
   "metadata": {},
   "outputs": [
    {
     "name": "stdout",
     "output_type": "stream",
     "text": [
      "Collecting ucimlrepo\n",
      "  Downloading ucimlrepo-0.0.7-py3-none-any.whl (8.0 kB)\n",
      "Requirement already satisfied: pandas>=1.0.0 in c:\\users\\nktun\\appdata\\local\\programs\\python\\python39\\lib\\site-packages (from ucimlrepo) (2.0.1)\n",
      "Requirement already satisfied: certifi>=2020.12.5 in c:\\users\\nktun\\appdata\\local\\programs\\python\\python39\\lib\\site-packages (from ucimlrepo) (2022.9.14)\n",
      "Requirement already satisfied: python-dateutil>=2.8.2 in c:\\users\\nktun\\appdata\\local\\programs\\python\\python39\\lib\\site-packages (from pandas>=1.0.0->ucimlrepo) (2.8.2)\n",
      "Requirement already satisfied: pytz>=2020.1 in c:\\users\\nktun\\appdata\\local\\programs\\python\\python39\\lib\\site-packages (from pandas>=1.0.0->ucimlrepo) (2022.2.1)\n",
      "Requirement already satisfied: tzdata>=2022.1 in c:\\users\\nktun\\appdata\\local\\programs\\python\\python39\\lib\\site-packages (from pandas>=1.0.0->ucimlrepo) (2023.3)\n",
      "Requirement already satisfied: numpy>=1.20.3 in c:\\users\\nktun\\appdata\\local\\programs\\python\\python39\\lib\\site-packages (from pandas>=1.0.0->ucimlrepo) (1.23.3)\n",
      "Requirement already satisfied: six>=1.5 in c:\\users\\nktun\\appdata\\local\\programs\\python\\python39\\lib\\site-packages (from python-dateutil>=2.8.2->pandas>=1.0.0->ucimlrepo) (1.16.0)\n",
      "Installing collected packages: ucimlrepo\n",
      "Successfully installed ucimlrepo-0.0.7\n",
      "Note: you may need to restart the kernel to use updated packages.\n"
     ]
    },
    {
     "name": "stderr",
     "output_type": "stream",
     "text": [
      "\n",
      "[notice] A new release of pip is available: 23.1.2 -> 24.3.1\n",
      "[notice] To update, run: python.exe -m pip install --upgrade pip\n"
     ]
    }
   ],
   "source": [
    "pip install ucimlrepo"
   ]
  },
  {
   "cell_type": "code",
   "execution_count": null,
   "metadata": {},
   "outputs": [],
   "source": [
    "from ucimlrepo import fetch_ucirepo \n",
    "  \n",
    "# fetch dataset \n",
    "online_retail = fetch_ucirepo(id=352) \n",
    "  \n",
    "# data (as pandas dataframes) \n",
    "X = online_retail.data.features \n",
    "y = online_retail.data.targets \n",
    "  \n",
    "# metadata \n",
    "print(online_retail.metadata) \n",
    "  \n",
    "# variable information \n",
    "print(online_retail.variables) \n"
   ]
  }
 ],
 "metadata": {
  "kernelspec": {
   "display_name": "Python 3",
   "language": "python",
   "name": "python3"
  },
  "language_info": {
   "codemirror_mode": {
    "name": "ipython",
    "version": 3
   },
   "file_extension": ".py",
   "mimetype": "text/x-python",
   "name": "python",
   "nbconvert_exporter": "python",
   "pygments_lexer": "ipython3",
   "version": "3.9.6"
  }
 },
 "nbformat": 4,
 "nbformat_minor": 2
}
